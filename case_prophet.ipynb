{
  "nbformat": 4,
  "nbformat_minor": 0,
  "metadata": {
    "colab": {
      "name": "case_prophet.ipynb",
      "provenance": [],
      "collapsed_sections": [],
      "toc_visible": true
    },
    "kernelspec": {
      "name": "python2",
      "display_name": "Python 2"
    },
    "accelerator": "GPU",
    "widgets": {
      "application/vnd.jupyter.widget-state+json": {
        "9e16dd4dfe104fe485e5e300a95d496b": {
          "model_module": "@jupyter-widgets/controls",
          "model_name": "HBoxModel",
          "model_module_version": "1.5.0",
          "state": {
            "_view_name": "HBoxView",
            "_dom_classes": [],
            "_model_name": "HBoxModel",
            "_view_module": "@jupyter-widgets/controls",
            "_model_module_version": "1.5.0",
            "_view_count": null,
            "_view_module_version": "1.5.0",
            "box_style": "",
            "layout": "IPY_MODEL_95d497612fd94ce4b714d7ec3917d3ee",
            "_model_module": "@jupyter-widgets/controls",
            "children": [
              "IPY_MODEL_4da2e577735a4b47b2506afdf6f892c2",
              "IPY_MODEL_56583ba560974e6fb501c5f5f9d218e3",
              "IPY_MODEL_673c6f0e9feb49aab3256bc5cca60e5f"
            ]
          }
        },
        "95d497612fd94ce4b714d7ec3917d3ee": {
          "model_module": "@jupyter-widgets/base",
          "model_name": "LayoutModel",
          "model_module_version": "1.2.0",
          "state": {
            "_view_name": "LayoutView",
            "grid_template_rows": null,
            "right": null,
            "justify_content": null,
            "_view_module": "@jupyter-widgets/base",
            "overflow": null,
            "_model_module_version": "1.2.0",
            "_view_count": null,
            "flex_flow": null,
            "width": null,
            "min_width": null,
            "border": null,
            "align_items": null,
            "bottom": null,
            "_model_module": "@jupyter-widgets/base",
            "top": null,
            "grid_column": null,
            "overflow_y": null,
            "overflow_x": null,
            "grid_auto_flow": null,
            "grid_area": null,
            "grid_template_columns": null,
            "flex": null,
            "_model_name": "LayoutModel",
            "justify_items": null,
            "grid_row": null,
            "max_height": null,
            "align_content": null,
            "visibility": null,
            "align_self": null,
            "height": null,
            "min_height": null,
            "padding": null,
            "grid_auto_rows": null,
            "grid_gap": null,
            "max_width": null,
            "order": null,
            "_view_module_version": "1.2.0",
            "grid_template_areas": null,
            "object_position": null,
            "object_fit": null,
            "grid_auto_columns": null,
            "margin": null,
            "display": null,
            "left": null
          }
        },
        "4da2e577735a4b47b2506afdf6f892c2": {
          "model_module": "@jupyter-widgets/controls",
          "model_name": "HTMLModel",
          "model_module_version": "1.5.0",
          "state": {
            "_view_name": "HTMLView",
            "style": "IPY_MODEL_b8013da81a874088837596863525edd3",
            "_dom_classes": [],
            "description": "",
            "_model_name": "HTMLModel",
            "placeholder": "​",
            "_view_module": "@jupyter-widgets/controls",
            "_model_module_version": "1.5.0",
            "value": "100%",
            "_view_count": null,
            "_view_module_version": "1.5.0",
            "description_tooltip": null,
            "_model_module": "@jupyter-widgets/controls",
            "layout": "IPY_MODEL_6588e507cddd48ac851c3985dbbc2366"
          }
        },
        "56583ba560974e6fb501c5f5f9d218e3": {
          "model_module": "@jupyter-widgets/controls",
          "model_name": "FloatProgressModel",
          "model_module_version": "1.5.0",
          "state": {
            "_view_name": "ProgressView",
            "style": "IPY_MODEL_7fcb94f34ad0402e8a6f49d96e8b6de5",
            "_dom_classes": [],
            "description": "",
            "_model_name": "FloatProgressModel",
            "bar_style": "success",
            "max": 1,
            "_view_module": "@jupyter-widgets/controls",
            "_model_module_version": "1.5.0",
            "value": 1,
            "_view_count": null,
            "_view_module_version": "1.5.0",
            "orientation": "horizontal",
            "min": 0,
            "description_tooltip": null,
            "_model_module": "@jupyter-widgets/controls",
            "layout": "IPY_MODEL_eef9ced904db444daf47f1de7a6bee86"
          }
        },
        "673c6f0e9feb49aab3256bc5cca60e5f": {
          "model_module": "@jupyter-widgets/controls",
          "model_name": "HTMLModel",
          "model_module_version": "1.5.0",
          "state": {
            "_view_name": "HTMLView",
            "style": "IPY_MODEL_3bc18dd408f04296bcc3a16a9f971300",
            "_dom_classes": [],
            "description": "",
            "_model_name": "HTMLModel",
            "placeholder": "​",
            "_view_module": "@jupyter-widgets/controls",
            "_model_module_version": "1.5.0",
            "value": " 1/1 [00:07&lt;00:00,  7.30s/it]",
            "_view_count": null,
            "_view_module_version": "1.5.0",
            "description_tooltip": null,
            "_model_module": "@jupyter-widgets/controls",
            "layout": "IPY_MODEL_be302c58292242c7a9a9f6f896e6361c"
          }
        },
        "b8013da81a874088837596863525edd3": {
          "model_module": "@jupyter-widgets/controls",
          "model_name": "DescriptionStyleModel",
          "model_module_version": "1.5.0",
          "state": {
            "_view_name": "StyleView",
            "_model_name": "DescriptionStyleModel",
            "description_width": "",
            "_view_module": "@jupyter-widgets/base",
            "_model_module_version": "1.5.0",
            "_view_count": null,
            "_view_module_version": "1.2.0",
            "_model_module": "@jupyter-widgets/controls"
          }
        },
        "6588e507cddd48ac851c3985dbbc2366": {
          "model_module": "@jupyter-widgets/base",
          "model_name": "LayoutModel",
          "model_module_version": "1.2.0",
          "state": {
            "_view_name": "LayoutView",
            "grid_template_rows": null,
            "right": null,
            "justify_content": null,
            "_view_module": "@jupyter-widgets/base",
            "overflow": null,
            "_model_module_version": "1.2.0",
            "_view_count": null,
            "flex_flow": null,
            "width": null,
            "min_width": null,
            "border": null,
            "align_items": null,
            "bottom": null,
            "_model_module": "@jupyter-widgets/base",
            "top": null,
            "grid_column": null,
            "overflow_y": null,
            "overflow_x": null,
            "grid_auto_flow": null,
            "grid_area": null,
            "grid_template_columns": null,
            "flex": null,
            "_model_name": "LayoutModel",
            "justify_items": null,
            "grid_row": null,
            "max_height": null,
            "align_content": null,
            "visibility": null,
            "align_self": null,
            "height": null,
            "min_height": null,
            "padding": null,
            "grid_auto_rows": null,
            "grid_gap": null,
            "max_width": null,
            "order": null,
            "_view_module_version": "1.2.0",
            "grid_template_areas": null,
            "object_position": null,
            "object_fit": null,
            "grid_auto_columns": null,
            "margin": null,
            "display": null,
            "left": null
          }
        },
        "7fcb94f34ad0402e8a6f49d96e8b6de5": {
          "model_module": "@jupyter-widgets/controls",
          "model_name": "ProgressStyleModel",
          "model_module_version": "1.5.0",
          "state": {
            "_view_name": "StyleView",
            "_model_name": "ProgressStyleModel",
            "description_width": "",
            "_view_module": "@jupyter-widgets/base",
            "_model_module_version": "1.5.0",
            "_view_count": null,
            "_view_module_version": "1.2.0",
            "bar_color": null,
            "_model_module": "@jupyter-widgets/controls"
          }
        },
        "eef9ced904db444daf47f1de7a6bee86": {
          "model_module": "@jupyter-widgets/base",
          "model_name": "LayoutModel",
          "model_module_version": "1.2.0",
          "state": {
            "_view_name": "LayoutView",
            "grid_template_rows": null,
            "right": null,
            "justify_content": null,
            "_view_module": "@jupyter-widgets/base",
            "overflow": null,
            "_model_module_version": "1.2.0",
            "_view_count": null,
            "flex_flow": null,
            "width": null,
            "min_width": null,
            "border": null,
            "align_items": null,
            "bottom": null,
            "_model_module": "@jupyter-widgets/base",
            "top": null,
            "grid_column": null,
            "overflow_y": null,
            "overflow_x": null,
            "grid_auto_flow": null,
            "grid_area": null,
            "grid_template_columns": null,
            "flex": null,
            "_model_name": "LayoutModel",
            "justify_items": null,
            "grid_row": null,
            "max_height": null,
            "align_content": null,
            "visibility": null,
            "align_self": null,
            "height": null,
            "min_height": null,
            "padding": null,
            "grid_auto_rows": null,
            "grid_gap": null,
            "max_width": null,
            "order": null,
            "_view_module_version": "1.2.0",
            "grid_template_areas": null,
            "object_position": null,
            "object_fit": null,
            "grid_auto_columns": null,
            "margin": null,
            "display": null,
            "left": null
          }
        },
        "3bc18dd408f04296bcc3a16a9f971300": {
          "model_module": "@jupyter-widgets/controls",
          "model_name": "DescriptionStyleModel",
          "model_module_version": "1.5.0",
          "state": {
            "_view_name": "StyleView",
            "_model_name": "DescriptionStyleModel",
            "description_width": "",
            "_view_module": "@jupyter-widgets/base",
            "_model_module_version": "1.5.0",
            "_view_count": null,
            "_view_module_version": "1.2.0",
            "_model_module": "@jupyter-widgets/controls"
          }
        },
        "be302c58292242c7a9a9f6f896e6361c": {
          "model_module": "@jupyter-widgets/base",
          "model_name": "LayoutModel",
          "model_module_version": "1.2.0",
          "state": {
            "_view_name": "LayoutView",
            "grid_template_rows": null,
            "right": null,
            "justify_content": null,
            "_view_module": "@jupyter-widgets/base",
            "overflow": null,
            "_model_module_version": "1.2.0",
            "_view_count": null,
            "flex_flow": null,
            "width": null,
            "min_width": null,
            "border": null,
            "align_items": null,
            "bottom": null,
            "_model_module": "@jupyter-widgets/base",
            "top": null,
            "grid_column": null,
            "overflow_y": null,
            "overflow_x": null,
            "grid_auto_flow": null,
            "grid_area": null,
            "grid_template_columns": null,
            "flex": null,
            "_model_name": "LayoutModel",
            "justify_items": null,
            "grid_row": null,
            "max_height": null,
            "align_content": null,
            "visibility": null,
            "align_self": null,
            "height": null,
            "min_height": null,
            "padding": null,
            "grid_auto_rows": null,
            "grid_gap": null,
            "max_width": null,
            "order": null,
            "_view_module_version": "1.2.0",
            "grid_template_areas": null,
            "object_position": null,
            "object_fit": null,
            "grid_auto_columns": null,
            "margin": null,
            "display": null,
            "left": null
          }
        }
      }
    }
  },
  "cells": [
    {
      "cell_type": "markdown",
      "metadata": {
        "id": "mZZmNFN7q_1u"
      },
      "source": [
        "\n",
        "## <font color=Green>Forecasting air transport passengers </font>\n",
        "\n",
        "<br>\n",
        "\n",
        "\n",
        "We have time series data at hand showing passengers carried in a set of countries over the world.\n",
        "A data product which could be developed, for the airline industry (or a specific airline) could be a prediction of the development in the trend for the next few years*.\n",
        "For a global airline, or an industry association, this data could inform corporate strategy decisions: market-level growth rates could be compared across countries, to help assess which could be more attractive and steer resource allocation where it matters the most.\n",
        "\n",
        "For simplicity, we can the Facebook Prophet** model, a well-known time series forecasting algorithm developed by Facebook, and pick a couple countries to provide a proof of concept.\n",
        "\n",
        "Note 1: Our data does not include COVID, which affected the industry quite a bit, so this is a clear limitation \n",
        "\n",
        "Note 2: https://facebook.github.io/prophet/\n",
        "\n",
        "Some info about Prophet:\n",
        "\n",
        "- Prophet is open source software released by Facebook’s Core Data Science team.\n",
        "\n",
        "- Prophet is a procedure for forecasting time series data based on an additive model where non-linear trends are fit with yearly, weekly, and daily seasonality, plus holiday effects. \n",
        "\n",
        "- Prophet works best with time series that have strong seasonal effects and several seasons of historical data. "
      ]
    },
    {
      "cell_type": "markdown",
      "metadata": {
        "id": "IMWm4DKYrV3n"
      },
      "source": [
        "<br><br>\n",
        "### <font color=White> 1. Install Prophet and perform imports:</font>\n"
      ]
    },
    {
      "cell_type": "code",
      "metadata": {
        "id": "MEEXHCaIAC0i",
        "colab": {
          "base_uri": "https://localhost:8080/"
        },
        "outputId": "571f0785-dd03-4020-bc27-06d04903b6e1"
      },
      "source": [
        "pip install fbprophet"
      ],
      "execution_count": 1,
      "outputs": [
        {
          "output_type": "stream",
          "name": "stdout",
          "text": [
            "Requirement already satisfied: fbprophet in /usr/local/lib/python3.7/dist-packages (0.7.1)\n",
            "Requirement already satisfied: Cython>=0.22 in /usr/local/lib/python3.7/dist-packages (from fbprophet) (0.29.24)\n",
            "Requirement already satisfied: cmdstanpy==0.9.5 in /usr/local/lib/python3.7/dist-packages (from fbprophet) (0.9.5)\n",
            "Requirement already satisfied: pystan>=2.14 in /usr/local/lib/python3.7/dist-packages (from fbprophet) (2.19.1.1)\n",
            "Requirement already satisfied: numpy>=1.15.4 in /usr/local/lib/python3.7/dist-packages (from fbprophet) (1.19.5)\n",
            "Requirement already satisfied: pandas>=1.0.4 in /usr/local/lib/python3.7/dist-packages (from fbprophet) (1.1.5)\n",
            "Requirement already satisfied: matplotlib>=2.0.0 in /usr/local/lib/python3.7/dist-packages (from fbprophet) (3.2.2)\n",
            "Requirement already satisfied: LunarCalendar>=0.0.9 in /usr/local/lib/python3.7/dist-packages (from fbprophet) (0.0.9)\n",
            "Requirement already satisfied: convertdate>=2.1.2 in /usr/local/lib/python3.7/dist-packages (from fbprophet) (2.3.2)\n",
            "Requirement already satisfied: holidays>=0.10.2 in /usr/local/lib/python3.7/dist-packages (from fbprophet) (0.10.5.2)\n",
            "Requirement already satisfied: setuptools-git>=1.2 in /usr/local/lib/python3.7/dist-packages (from fbprophet) (1.2)\n",
            "Requirement already satisfied: python-dateutil>=2.8.0 in /usr/local/lib/python3.7/dist-packages (from fbprophet) (2.8.2)\n",
            "Requirement already satisfied: tqdm>=4.36.1 in /usr/local/lib/python3.7/dist-packages (from fbprophet) (4.62.3)\n",
            "Requirement already satisfied: pymeeus<=1,>=0.3.13 in /usr/local/lib/python3.7/dist-packages (from convertdate>=2.1.2->fbprophet) (0.5.11)\n",
            "Requirement already satisfied: pytz>=2014.10 in /usr/local/lib/python3.7/dist-packages (from convertdate>=2.1.2->fbprophet) (2018.9)\n",
            "Requirement already satisfied: korean-lunar-calendar in /usr/local/lib/python3.7/dist-packages (from holidays>=0.10.2->fbprophet) (0.2.1)\n",
            "Requirement already satisfied: six in /usr/local/lib/python3.7/dist-packages (from holidays>=0.10.2->fbprophet) (1.15.0)\n",
            "Requirement already satisfied: hijri-converter in /usr/local/lib/python3.7/dist-packages (from holidays>=0.10.2->fbprophet) (2.2.2)\n",
            "Requirement already satisfied: ephem>=3.7.5.3 in /usr/local/lib/python3.7/dist-packages (from LunarCalendar>=0.0.9->fbprophet) (4.1)\n",
            "Requirement already satisfied: cycler>=0.10 in /usr/local/lib/python3.7/dist-packages (from matplotlib>=2.0.0->fbprophet) (0.11.0)\n",
            "Requirement already satisfied: pyparsing!=2.0.4,!=2.1.2,!=2.1.6,>=2.0.1 in /usr/local/lib/python3.7/dist-packages (from matplotlib>=2.0.0->fbprophet) (3.0.6)\n",
            "Requirement already satisfied: kiwisolver>=1.0.1 in /usr/local/lib/python3.7/dist-packages (from matplotlib>=2.0.0->fbprophet) (1.3.2)\n"
          ]
        }
      ]
    },
    {
      "cell_type": "code",
      "metadata": {
        "id": "HMpSn9-lteQe"
      },
      "source": [
        "import pandas as pd\n",
        "import numpy as np\n",
        "import matplotlib.pyplot as plt\n",
        "import datetime\n",
        "from fbprophet import Prophet\n",
        "\n"
      ],
      "execution_count": 2,
      "outputs": []
    },
    {
      "cell_type": "code",
      "metadata": {
        "id": "fNqBk5G-NVBX"
      },
      "source": [
        "#make our figures more readable\n",
        "pd.options.display.float_format = '{:,.2f}'.format"
      ],
      "execution_count": 3,
      "outputs": []
    },
    {
      "cell_type": "markdown",
      "metadata": {
        "id": "SEoc4JDfuC7f"
      },
      "source": [
        "<br><br>\n",
        "### <font color=White>2. Import the dataset </font>"
      ]
    },
    {
      "cell_type": "code",
      "metadata": {
        "id": "5pSN7W13uGdC",
        "colab": {
          "resources": {
            "http://localhost:8080/nbextensions/google.colab/files.js": {
              "data": "Ly8gQ29weXJpZ2h0IDIwMTcgR29vZ2xlIExMQwovLwovLyBMaWNlbnNlZCB1bmRlciB0aGUgQXBhY2hlIExpY2Vuc2UsIFZlcnNpb24gMi4wICh0aGUgIkxpY2Vuc2UiKTsKLy8geW91IG1heSBub3QgdXNlIHRoaXMgZmlsZSBleGNlcHQgaW4gY29tcGxpYW5jZSB3aXRoIHRoZSBMaWNlbnNlLgovLyBZb3UgbWF5IG9idGFpbiBhIGNvcHkgb2YgdGhlIExpY2Vuc2UgYXQKLy8KLy8gICAgICBodHRwOi8vd3d3LmFwYWNoZS5vcmcvbGljZW5zZXMvTElDRU5TRS0yLjAKLy8KLy8gVW5sZXNzIHJlcXVpcmVkIGJ5IGFwcGxpY2FibGUgbGF3IG9yIGFncmVlZCB0byBpbiB3cml0aW5nLCBzb2Z0d2FyZQovLyBkaXN0cmlidXRlZCB1bmRlciB0aGUgTGljZW5zZSBpcyBkaXN0cmlidXRlZCBvbiBhbiAiQVMgSVMiIEJBU0lTLAovLyBXSVRIT1VUIFdBUlJBTlRJRVMgT1IgQ09ORElUSU9OUyBPRiBBTlkgS0lORCwgZWl0aGVyIGV4cHJlc3Mgb3IgaW1wbGllZC4KLy8gU2VlIHRoZSBMaWNlbnNlIGZvciB0aGUgc3BlY2lmaWMgbGFuZ3VhZ2UgZ292ZXJuaW5nIHBlcm1pc3Npb25zIGFuZAovLyBsaW1pdGF0aW9ucyB1bmRlciB0aGUgTGljZW5zZS4KCi8qKgogKiBAZmlsZW92ZXJ2aWV3IEhlbHBlcnMgZm9yIGdvb2dsZS5jb2xhYiBQeXRob24gbW9kdWxlLgogKi8KKGZ1bmN0aW9uKHNjb3BlKSB7CmZ1bmN0aW9uIHNwYW4odGV4dCwgc3R5bGVBdHRyaWJ1dGVzID0ge30pIHsKICBjb25zdCBlbGVtZW50ID0gZG9jdW1lbnQuY3JlYXRlRWxlbWVudCgnc3BhbicpOwogIGVsZW1lbnQudGV4dENvbnRlbnQgPSB0ZXh0OwogIGZvciAoY29uc3Qga2V5IG9mIE9iamVjdC5rZXlzKHN0eWxlQXR0cmlidXRlcykpIHsKICAgIGVsZW1lbnQuc3R5bGVba2V5XSA9IHN0eWxlQXR0cmlidXRlc1trZXldOwogIH0KICByZXR1cm4gZWxlbWVudDsKfQoKLy8gTWF4IG51bWJlciBvZiBieXRlcyB3aGljaCB3aWxsIGJlIHVwbG9hZGVkIGF0IGEgdGltZS4KY29uc3QgTUFYX1BBWUxPQURfU0laRSA9IDEwMCAqIDEwMjQ7CgpmdW5jdGlvbiBfdXBsb2FkRmlsZXMoaW5wdXRJZCwgb3V0cHV0SWQpIHsKICBjb25zdCBzdGVwcyA9IHVwbG9hZEZpbGVzU3RlcChpbnB1dElkLCBvdXRwdXRJZCk7CiAgY29uc3Qgb3V0cHV0RWxlbWVudCA9IGRvY3VtZW50LmdldEVsZW1lbnRCeUlkKG91dHB1dElkKTsKICAvLyBDYWNoZSBzdGVwcyBvbiB0aGUgb3V0cHV0RWxlbWVudCB0byBtYWtlIGl0IGF2YWlsYWJsZSBmb3IgdGhlIG5leHQgY2FsbAogIC8vIHRvIHVwbG9hZEZpbGVzQ29udGludWUgZnJvbSBQeXRob24uCiAgb3V0cHV0RWxlbWVudC5zdGVwcyA9IHN0ZXBzOwoKICByZXR1cm4gX3VwbG9hZEZpbGVzQ29udGludWUob3V0cHV0SWQpOwp9CgovLyBUaGlzIGlzIHJvdWdobHkgYW4gYXN5bmMgZ2VuZXJhdG9yIChub3Qgc3VwcG9ydGVkIGluIHRoZSBicm93c2VyIHlldCksCi8vIHdoZXJlIHRoZXJlIGFyZSBtdWx0aXBsZSBhc3luY2hyb25vdXMgc3RlcHMgYW5kIHRoZSBQeXRob24gc2lkZSBpcyBnb2luZwovLyB0byBwb2xsIGZvciBjb21wbGV0aW9uIG9mIGVhY2ggc3RlcC4KLy8gVGhpcyB1c2VzIGEgUHJvbWlzZSB0byBibG9jayB0aGUgcHl0aG9uIHNpZGUgb24gY29tcGxldGlvbiBvZiBlYWNoIHN0ZXAsCi8vIHRoZW4gcGFzc2VzIHRoZSByZXN1bHQgb2YgdGhlIHByZXZpb3VzIHN0ZXAgYXMgdGhlIGlucHV0IHRvIHRoZSBuZXh0IHN0ZXAuCmZ1bmN0aW9uIF91cGxvYWRGaWxlc0NvbnRpbnVlKG91dHB1dElkKSB7CiAgY29uc3Qgb3V0cHV0RWxlbWVudCA9IGRvY3VtZW50LmdldEVsZW1lbnRCeUlkKG91dHB1dElkKTsKICBjb25zdCBzdGVwcyA9IG91dHB1dEVsZW1lbnQuc3RlcHM7CgogIGNvbnN0IG5leHQgPSBzdGVwcy5uZXh0KG91dHB1dEVsZW1lbnQubGFzdFByb21pc2VWYWx1ZSk7CiAgcmV0dXJuIFByb21pc2UucmVzb2x2ZShuZXh0LnZhbHVlLnByb21pc2UpLnRoZW4oKHZhbHVlKSA9PiB7CiAgICAvLyBDYWNoZSB0aGUgbGFzdCBwcm9taXNlIHZhbHVlIHRvIG1ha2UgaXQgYXZhaWxhYmxlIHRvIHRoZSBuZXh0CiAgICAvLyBzdGVwIG9mIHRoZSBnZW5lcmF0b3IuCiAgICBvdXRwdXRFbGVtZW50Lmxhc3RQcm9taXNlVmFsdWUgPSB2YWx1ZTsKICAgIHJldHVybiBuZXh0LnZhbHVlLnJlc3BvbnNlOwogIH0pOwp9CgovKioKICogR2VuZXJhdG9yIGZ1bmN0aW9uIHdoaWNoIGlzIGNhbGxlZCBiZXR3ZWVuIGVhY2ggYXN5bmMgc3RlcCBvZiB0aGUgdXBsb2FkCiAqIHByb2Nlc3MuCiAqIEBwYXJhbSB7c3RyaW5nfSBpbnB1dElkIEVsZW1lbnQgSUQgb2YgdGhlIGlucHV0IGZpbGUgcGlja2VyIGVsZW1lbnQuCiAqIEBwYXJhbSB7c3RyaW5nfSBvdXRwdXRJZCBFbGVtZW50IElEIG9mIHRoZSBvdXRwdXQgZGlzcGxheS4KICogQHJldHVybiB7IUl0ZXJhYmxlPCFPYmplY3Q+fSBJdGVyYWJsZSBvZiBuZXh0IHN0ZXBzLgogKi8KZnVuY3Rpb24qIHVwbG9hZEZpbGVzU3RlcChpbnB1dElkLCBvdXRwdXRJZCkgewogIGNvbnN0IGlucHV0RWxlbWVudCA9IGRvY3VtZW50LmdldEVsZW1lbnRCeUlkKGlucHV0SWQpOwogIGlucHV0RWxlbWVudC5kaXNhYmxlZCA9IGZhbHNlOwoKICBjb25zdCBvdXRwdXRFbGVtZW50ID0gZG9jdW1lbnQuZ2V0RWxlbWVudEJ5SWQob3V0cHV0SWQpOwogIG91dHB1dEVsZW1lbnQuaW5uZXJIVE1MID0gJyc7CgogIGNvbnN0IHBpY2tlZFByb21pc2UgPSBuZXcgUHJvbWlzZSgocmVzb2x2ZSkgPT4gewogICAgaW5wdXRFbGVtZW50LmFkZEV2ZW50TGlzdGVuZXIoJ2NoYW5nZScsIChlKSA9PiB7CiAgICAgIHJlc29sdmUoZS50YXJnZXQuZmlsZXMpOwogICAgfSk7CiAgfSk7CgogIGNvbnN0IGNhbmNlbCA9IGRvY3VtZW50LmNyZWF0ZUVsZW1lbnQoJ2J1dHRvbicpOwogIGlucHV0RWxlbWVudC5wYXJlbnRFbGVtZW50LmFwcGVuZENoaWxkKGNhbmNlbCk7CiAgY2FuY2VsLnRleHRDb250ZW50ID0gJ0NhbmNlbCB1cGxvYWQnOwogIGNvbnN0IGNhbmNlbFByb21pc2UgPSBuZXcgUHJvbWlzZSgocmVzb2x2ZSkgPT4gewogICAgY2FuY2VsLm9uY2xpY2sgPSAoKSA9PiB7CiAgICAgIHJlc29sdmUobnVsbCk7CiAgICB9OwogIH0pOwoKICAvLyBXYWl0IGZvciB0aGUgdXNlciB0byBwaWNrIHRoZSBmaWxlcy4KICBjb25zdCBmaWxlcyA9IHlpZWxkIHsKICAgIHByb21pc2U6IFByb21pc2UucmFjZShbcGlja2VkUHJvbWlzZSwgY2FuY2VsUHJvbWlzZV0pLAogICAgcmVzcG9uc2U6IHsKICAgICAgYWN0aW9uOiAnc3RhcnRpbmcnLAogICAgfQogIH07CgogIGNhbmNlbC5yZW1vdmUoKTsKCiAgLy8gRGlzYWJsZSB0aGUgaW5wdXQgZWxlbWVudCBzaW5jZSBmdXJ0aGVyIHBpY2tzIGFyZSBub3QgYWxsb3dlZC4KICBpbnB1dEVsZW1lbnQuZGlzYWJsZWQgPSB0cnVlOwoKICBpZiAoIWZpbGVzKSB7CiAgICByZXR1cm4gewogICAgICByZXNwb25zZTogewogICAgICAgIGFjdGlvbjogJ2NvbXBsZXRlJywKICAgICAgfQogICAgfTsKICB9CgogIGZvciAoY29uc3QgZmlsZSBvZiBmaWxlcykgewogICAgY29uc3QgbGkgPSBkb2N1bWVudC5jcmVhdGVFbGVtZW50KCdsaScpOwogICAgbGkuYXBwZW5kKHNwYW4oZmlsZS5uYW1lLCB7Zm9udFdlaWdodDogJ2JvbGQnfSkpOwogICAgbGkuYXBwZW5kKHNwYW4oCiAgICAgICAgYCgke2ZpbGUudHlwZSB8fCAnbi9hJ30pIC0gJHtmaWxlLnNpemV9IGJ5dGVzLCBgICsKICAgICAgICBgbGFzdCBtb2RpZmllZDogJHsKICAgICAgICAgICAgZmlsZS5sYXN0TW9kaWZpZWREYXRlID8gZmlsZS5sYXN0TW9kaWZpZWREYXRlLnRvTG9jYWxlRGF0ZVN0cmluZygpIDoKICAgICAgICAgICAgICAgICAgICAgICAgICAgICAgICAgICAgJ24vYSd9IC0gYCkpOwogICAgY29uc3QgcGVyY2VudCA9IHNwYW4oJzAlIGRvbmUnKTsKICAgIGxpLmFwcGVuZENoaWxkKHBlcmNlbnQpOwoKICAgIG91dHB1dEVsZW1lbnQuYXBwZW5kQ2hpbGQobGkpOwoKICAgIGNvbnN0IGZpbGVEYXRhUHJvbWlzZSA9IG5ldyBQcm9taXNlKChyZXNvbHZlKSA9PiB7CiAgICAgIGNvbnN0IHJlYWRlciA9IG5ldyBGaWxlUmVhZGVyKCk7CiAgICAgIHJlYWRlci5vbmxvYWQgPSAoZSkgPT4gewogICAgICAgIHJlc29sdmUoZS50YXJnZXQucmVzdWx0KTsKICAgICAgfTsKICAgICAgcmVhZGVyLnJlYWRBc0FycmF5QnVmZmVyKGZpbGUpOwogICAgfSk7CiAgICAvLyBXYWl0IGZvciB0aGUgZGF0YSB0byBiZSByZWFkeS4KICAgIGxldCBmaWxlRGF0YSA9IHlpZWxkIHsKICAgICAgcHJvbWlzZTogZmlsZURhdGFQcm9taXNlLAogICAgICByZXNwb25zZTogewogICAgICAgIGFjdGlvbjogJ2NvbnRpbnVlJywKICAgICAgfQogICAgfTsKCiAgICAvLyBVc2UgYSBjaHVua2VkIHNlbmRpbmcgdG8gYXZvaWQgbWVzc2FnZSBzaXplIGxpbWl0cy4gU2VlIGIvNjIxMTU2NjAuCiAgICBsZXQgcG9zaXRpb24gPSAwOwogICAgZG8gewogICAgICBjb25zdCBsZW5ndGggPSBNYXRoLm1pbihmaWxlRGF0YS5ieXRlTGVuZ3RoIC0gcG9zaXRpb24sIE1BWF9QQVlMT0FEX1NJWkUpOwogICAgICBjb25zdCBjaHVuayA9IG5ldyBVaW50OEFycmF5KGZpbGVEYXRhLCBwb3NpdGlvbiwgbGVuZ3RoKTsKICAgICAgcG9zaXRpb24gKz0gbGVuZ3RoOwoKICAgICAgY29uc3QgYmFzZTY0ID0gYnRvYShTdHJpbmcuZnJvbUNoYXJDb2RlLmFwcGx5KG51bGwsIGNodW5rKSk7CiAgICAgIHlpZWxkIHsKICAgICAgICByZXNwb25zZTogewogICAgICAgICAgYWN0aW9uOiAnYXBwZW5kJywKICAgICAgICAgIGZpbGU6IGZpbGUubmFtZSwKICAgICAgICAgIGRhdGE6IGJhc2U2NCwKICAgICAgICB9LAogICAgICB9OwoKICAgICAgbGV0IHBlcmNlbnREb25lID0gZmlsZURhdGEuYnl0ZUxlbmd0aCA9PT0gMCA/CiAgICAgICAgICAxMDAgOgogICAgICAgICAgTWF0aC5yb3VuZCgocG9zaXRpb24gLyBmaWxlRGF0YS5ieXRlTGVuZ3RoKSAqIDEwMCk7CiAgICAgIHBlcmNlbnQudGV4dENvbnRlbnQgPSBgJHtwZXJjZW50RG9uZX0lIGRvbmVgOwoKICAgIH0gd2hpbGUgKHBvc2l0aW9uIDwgZmlsZURhdGEuYnl0ZUxlbmd0aCk7CiAgfQoKICAvLyBBbGwgZG9uZS4KICB5aWVsZCB7CiAgICByZXNwb25zZTogewogICAgICBhY3Rpb246ICdjb21wbGV0ZScsCiAgICB9CiAgfTsKfQoKc2NvcGUuZ29vZ2xlID0gc2NvcGUuZ29vZ2xlIHx8IHt9OwpzY29wZS5nb29nbGUuY29sYWIgPSBzY29wZS5nb29nbGUuY29sYWIgfHwge307CnNjb3BlLmdvb2dsZS5jb2xhYi5fZmlsZXMgPSB7CiAgX3VwbG9hZEZpbGVzLAogIF91cGxvYWRGaWxlc0NvbnRpbnVlLAp9Owp9KShzZWxmKTsK",
              "ok": true,
              "headers": [
                [
                  "content-type",
                  "application/javascript"
                ]
              ],
              "status": 200,
              "status_text": "OK"
            }
          },
          "base_uri": "https://localhost:8080/",
          "height": 73
        },
        "outputId": "990cb351-bef8-4168-c0f3-964495056482"
      },
      "source": [
        "  from google.colab import files\n",
        "  uploaded = files.upload()"
      ],
      "execution_count": 4,
      "outputs": [
        {
          "output_type": "display_data",
          "data": {
            "text/html": [
              "\n",
              "     <input type=\"file\" id=\"files-35970954-9fa6-453f-a014-20a1458aac77\" name=\"files[]\" multiple disabled\n",
              "        style=\"border:none\" />\n",
              "     <output id=\"result-35970954-9fa6-453f-a014-20a1458aac77\">\n",
              "      Upload widget is only available when the cell has been executed in the\n",
              "      current browser session. Please rerun this cell to enable.\n",
              "      </output>\n",
              "      <script src=\"/nbextensions/google.colab/files.js\"></script> "
            ],
            "text/plain": [
              "<IPython.core.display.HTML object>"
            ]
          },
          "metadata": {}
        },
        {
          "output_type": "stream",
          "name": "stdout",
          "text": [
            "Saving API_IS.AIR.PSGR_DS2_en_csv_v2_3358196.csv to API_IS.AIR.PSGR_DS2_en_csv_v2_3358196.csv\n"
          ]
        }
      ]
    },
    {
      "cell_type": "code",
      "metadata": {
        "id": "NtuEv_HxuL3k",
        "colab": {
          "base_uri": "https://localhost:8080/"
        },
        "outputId": "58b4154f-48fb-4c7d-c403-7037620a89a2"
      },
      "source": [
        "# Once your file is on the Virtual Machine, you can check if the file is there.\n",
        "!ls"
      ],
      "execution_count": 5,
      "outputs": [
        {
          "output_type": "stream",
          "name": "stdout",
          "text": [
            "API_IS.AIR.PSGR_DS2_en_csv_v2_3358196.csv  sample_data\n"
          ]
        }
      ]
    },
    {
      "cell_type": "markdown",
      "metadata": {
        "id": "IBYkc1mCuVEC"
      },
      "source": [
        "<br><br>\n",
        "### <font color=White>**3. Declare the dataset as a data frame and visualise it**</font>"
      ]
    },
    {
      "cell_type": "code",
      "metadata": {
        "id": "ojICZ5XMuX3f",
        "colab": {
          "base_uri": "https://localhost:8080/",
          "height": 504
        },
        "outputId": "d1fbe090-1182-43dd-d912-e471f0132911"
      },
      "source": [
        "import io\n",
        "ts_data = pd.read_csv(io.BytesIO(uploaded['API_IS.AIR.PSGR_DS2_en_csv_v2_3358196.csv']), skiprows=4)\n",
        "ts_data.head(5)"
      ],
      "execution_count": 6,
      "outputs": [
        {
          "output_type": "execute_result",
          "data": {
            "text/html": [
              "<div>\n",
              "<style scoped>\n",
              "    .dataframe tbody tr th:only-of-type {\n",
              "        vertical-align: middle;\n",
              "    }\n",
              "\n",
              "    .dataframe tbody tr th {\n",
              "        vertical-align: top;\n",
              "    }\n",
              "\n",
              "    .dataframe thead th {\n",
              "        text-align: right;\n",
              "    }\n",
              "</style>\n",
              "<table border=\"1\" class=\"dataframe\">\n",
              "  <thead>\n",
              "    <tr style=\"text-align: right;\">\n",
              "      <th></th>\n",
              "      <th>Country Name</th>\n",
              "      <th>Country Code</th>\n",
              "      <th>Indicator Name</th>\n",
              "      <th>Indicator Code</th>\n",
              "      <th>1960</th>\n",
              "      <th>1961</th>\n",
              "      <th>1962</th>\n",
              "      <th>1963</th>\n",
              "      <th>1964</th>\n",
              "      <th>1965</th>\n",
              "      <th>1966</th>\n",
              "      <th>1967</th>\n",
              "      <th>1968</th>\n",
              "      <th>1969</th>\n",
              "      <th>1970</th>\n",
              "      <th>1971</th>\n",
              "      <th>1972</th>\n",
              "      <th>1973</th>\n",
              "      <th>1974</th>\n",
              "      <th>1975</th>\n",
              "      <th>1976</th>\n",
              "      <th>1977</th>\n",
              "      <th>1978</th>\n",
              "      <th>1979</th>\n",
              "      <th>1980</th>\n",
              "      <th>1981</th>\n",
              "      <th>1982</th>\n",
              "      <th>1983</th>\n",
              "      <th>1984</th>\n",
              "      <th>1985</th>\n",
              "      <th>1986</th>\n",
              "      <th>1987</th>\n",
              "      <th>1988</th>\n",
              "      <th>1989</th>\n",
              "      <th>1990</th>\n",
              "      <th>1991</th>\n",
              "      <th>1992</th>\n",
              "      <th>1993</th>\n",
              "      <th>1994</th>\n",
              "      <th>1995</th>\n",
              "      <th>1996</th>\n",
              "      <th>1997</th>\n",
              "      <th>1998</th>\n",
              "      <th>1999</th>\n",
              "      <th>2000</th>\n",
              "      <th>2001</th>\n",
              "      <th>2002</th>\n",
              "      <th>2003</th>\n",
              "      <th>2004</th>\n",
              "      <th>2005</th>\n",
              "      <th>2006</th>\n",
              "      <th>2007</th>\n",
              "      <th>2008</th>\n",
              "      <th>2009</th>\n",
              "      <th>2010</th>\n",
              "      <th>2011</th>\n",
              "      <th>2012</th>\n",
              "      <th>2013</th>\n",
              "      <th>2014</th>\n",
              "      <th>2015</th>\n",
              "      <th>2016</th>\n",
              "      <th>2017</th>\n",
              "      <th>2018</th>\n",
              "      <th>2019</th>\n",
              "      <th>2020</th>\n",
              "      <th>Unnamed: 65</th>\n",
              "    </tr>\n",
              "  </thead>\n",
              "  <tbody>\n",
              "    <tr>\n",
              "      <th>0</th>\n",
              "      <td>Aruba</td>\n",
              "      <td>ABW</td>\n",
              "      <td>Air transport, passengers carried</td>\n",
              "      <td>IS.AIR.PSGR</td>\n",
              "      <td>nan</td>\n",
              "      <td>nan</td>\n",
              "      <td>nan</td>\n",
              "      <td>nan</td>\n",
              "      <td>nan</td>\n",
              "      <td>nan</td>\n",
              "      <td>nan</td>\n",
              "      <td>nan</td>\n",
              "      <td>nan</td>\n",
              "      <td>nan</td>\n",
              "      <td>nan</td>\n",
              "      <td>nan</td>\n",
              "      <td>nan</td>\n",
              "      <td>nan</td>\n",
              "      <td>nan</td>\n",
              "      <td>nan</td>\n",
              "      <td>nan</td>\n",
              "      <td>nan</td>\n",
              "      <td>nan</td>\n",
              "      <td>nan</td>\n",
              "      <td>nan</td>\n",
              "      <td>nan</td>\n",
              "      <td>nan</td>\n",
              "      <td>nan</td>\n",
              "      <td>nan</td>\n",
              "      <td>nan</td>\n",
              "      <td>nan</td>\n",
              "      <td>nan</td>\n",
              "      <td>nan</td>\n",
              "      <td>nan</td>\n",
              "      <td>nan</td>\n",
              "      <td>nan</td>\n",
              "      <td>nan</td>\n",
              "      <td>nan</td>\n",
              "      <td>nan</td>\n",
              "      <td>nan</td>\n",
              "      <td>nan</td>\n",
              "      <td>nan</td>\n",
              "      <td>nan</td>\n",
              "      <td>nan</td>\n",
              "      <td>nan</td>\n",
              "      <td>nan</td>\n",
              "      <td>nan</td>\n",
              "      <td>nan</td>\n",
              "      <td>nan</td>\n",
              "      <td>nan</td>\n",
              "      <td>nan</td>\n",
              "      <td>nan</td>\n",
              "      <td>nan</td>\n",
              "      <td>nan</td>\n",
              "      <td>nan</td>\n",
              "      <td>nan</td>\n",
              "      <td>nan</td>\n",
              "      <td>nan</td>\n",
              "      <td>nan</td>\n",
              "      <td>nan</td>\n",
              "      <td>nan</td>\n",
              "      <td>223,502.00</td>\n",
              "      <td>274,280.00</td>\n",
              "      <td>nan</td>\n",
              "      <td>nan</td>\n",
              "      <td>nan</td>\n",
              "    </tr>\n",
              "    <tr>\n",
              "      <th>1</th>\n",
              "      <td>Africa Eastern and Southern</td>\n",
              "      <td>AFE</td>\n",
              "      <td>Air transport, passengers carried</td>\n",
              "      <td>IS.AIR.PSGR</td>\n",
              "      <td>nan</td>\n",
              "      <td>nan</td>\n",
              "      <td>nan</td>\n",
              "      <td>nan</td>\n",
              "      <td>nan</td>\n",
              "      <td>nan</td>\n",
              "      <td>nan</td>\n",
              "      <td>nan</td>\n",
              "      <td>nan</td>\n",
              "      <td>nan</td>\n",
              "      <td>3,418,300.00</td>\n",
              "      <td>3,775,300.00</td>\n",
              "      <td>4,074,500.00</td>\n",
              "      <td>4,808,000.00</td>\n",
              "      <td>5,126,100.00</td>\n",
              "      <td>5,333,100.00</td>\n",
              "      <td>6,040,400.00</td>\n",
              "      <td>5,798,900.00</td>\n",
              "      <td>6,195,600.00</td>\n",
              "      <td>7,515,200.00</td>\n",
              "      <td>8,614,600.00</td>\n",
              "      <td>9,063,100.00</td>\n",
              "      <td>9,088,900.00</td>\n",
              "      <td>8,973,900.00</td>\n",
              "      <td>9,474,400.00</td>\n",
              "      <td>9,385,300.00</td>\n",
              "      <td>8,825,600.00</td>\n",
              "      <td>9,837,400.00</td>\n",
              "      <td>10,931,600.00</td>\n",
              "      <td>11,110,800.00</td>\n",
              "      <td>11,257,400.00</td>\n",
              "      <td>10,802,900.00</td>\n",
              "      <td>10,302,700.00</td>\n",
              "      <td>11,082,400.00</td>\n",
              "      <td>11,775,500.00</td>\n",
              "      <td>12,153,400.00</td>\n",
              "      <td>13,178,400.00</td>\n",
              "      <td>13,456,500.00</td>\n",
              "      <td>13,234,700.00</td>\n",
              "      <td>14,038,500.00</td>\n",
              "      <td>14,963,609.00</td>\n",
              "      <td>14,546,112.00</td>\n",
              "      <td>14,462,573.00</td>\n",
              "      <td>15,802,323.00</td>\n",
              "      <td>17,562,611.00</td>\n",
              "      <td>20,661,751.00</td>\n",
              "      <td>22,039,609.00</td>\n",
              "      <td>23,295,972.00</td>\n",
              "      <td>23,988,552.00</td>\n",
              "      <td>23,800,085.00</td>\n",
              "      <td>30,374,164.94</td>\n",
              "      <td>33,507,824.27</td>\n",
              "      <td>35,838,679.01</td>\n",
              "      <td>35,112,457.82</td>\n",
              "      <td>36,350,758.95</td>\n",
              "      <td>39,154,692.00</td>\n",
              "      <td>41,553,429.00</td>\n",
              "      <td>45,423,814.08</td>\n",
              "      <td>52,613,964.08</td>\n",
              "      <td>54,335,254.28</td>\n",
              "      <td>nan</td>\n",
              "      <td>nan</td>\n",
              "    </tr>\n",
              "    <tr>\n",
              "      <th>2</th>\n",
              "      <td>Afghanistan</td>\n",
              "      <td>AFG</td>\n",
              "      <td>Air transport, passengers carried</td>\n",
              "      <td>IS.AIR.PSGR</td>\n",
              "      <td>nan</td>\n",
              "      <td>nan</td>\n",
              "      <td>nan</td>\n",
              "      <td>nan</td>\n",
              "      <td>nan</td>\n",
              "      <td>nan</td>\n",
              "      <td>nan</td>\n",
              "      <td>nan</td>\n",
              "      <td>nan</td>\n",
              "      <td>nan</td>\n",
              "      <td>84,700.00</td>\n",
              "      <td>97,400.00</td>\n",
              "      <td>104,900.00</td>\n",
              "      <td>96,600.00</td>\n",
              "      <td>96,100.00</td>\n",
              "      <td>99,000.00</td>\n",
              "      <td>101,700.00</td>\n",
              "      <td>111,200.00</td>\n",
              "      <td>100,400.00</td>\n",
              "      <td>93,000.00</td>\n",
              "      <td>76,200.00</td>\n",
              "      <td>129,100.00</td>\n",
              "      <td>181,000.00</td>\n",
              "      <td>200,200.00</td>\n",
              "      <td>220,400.00</td>\n",
              "      <td>225,500.00</td>\n",
              "      <td>184,400.00</td>\n",
              "      <td>217,900.00</td>\n",
              "      <td>201,000.00</td>\n",
              "      <td>220,000.00</td>\n",
              "      <td>241,400.00</td>\n",
              "      <td>212,300.00</td>\n",
              "      <td>212,300.00</td>\n",
              "      <td>197,000.00</td>\n",
              "      <td>238,400.00</td>\n",
              "      <td>250,400.00</td>\n",
              "      <td>255,600.00</td>\n",
              "      <td>89,600.00</td>\n",
              "      <td>52,700.00</td>\n",
              "      <td>140,200.00</td>\n",
              "      <td>149,705.00</td>\n",
              "      <td>nan</td>\n",
              "      <td>nan</td>\n",
              "      <td>nan</td>\n",
              "      <td>nan</td>\n",
              "      <td>nan</td>\n",
              "      <td>nan</td>\n",
              "      <td>nan</td>\n",
              "      <td>nan</td>\n",
              "      <td>nan</td>\n",
              "      <td>1,999,127.00</td>\n",
              "      <td>2,279,341.18</td>\n",
              "      <td>1,737,962.13</td>\n",
              "      <td>2,044,188.00</td>\n",
              "      <td>2,209,428.00</td>\n",
              "      <td>1,929,907.00</td>\n",
              "      <td>1,917,924.00</td>\n",
              "      <td>1,647,425.00</td>\n",
              "      <td>1,125,367.00</td>\n",
              "      <td>1,066,747.36</td>\n",
              "      <td>nan</td>\n",
              "      <td>nan</td>\n",
              "    </tr>\n",
              "    <tr>\n",
              "      <th>3</th>\n",
              "      <td>Africa Western and Central</td>\n",
              "      <td>AFW</td>\n",
              "      <td>Air transport, passengers carried</td>\n",
              "      <td>IS.AIR.PSGR</td>\n",
              "      <td>nan</td>\n",
              "      <td>nan</td>\n",
              "      <td>nan</td>\n",
              "      <td>nan</td>\n",
              "      <td>nan</td>\n",
              "      <td>nan</td>\n",
              "      <td>nan</td>\n",
              "      <td>nan</td>\n",
              "      <td>nan</td>\n",
              "      <td>nan</td>\n",
              "      <td>1,167,000.00</td>\n",
              "      <td>1,238,100.00</td>\n",
              "      <td>1,285,700.00</td>\n",
              "      <td>1,453,300.00</td>\n",
              "      <td>1,685,700.00</td>\n",
              "      <td>1,987,500.00</td>\n",
              "      <td>2,540,000.00</td>\n",
              "      <td>2,962,100.00</td>\n",
              "      <td>3,543,900.00</td>\n",
              "      <td>3,776,100.00</td>\n",
              "      <td>4,404,900.00</td>\n",
              "      <td>5,147,600.00</td>\n",
              "      <td>5,190,100.00</td>\n",
              "      <td>5,423,600.00</td>\n",
              "      <td>5,311,800.00</td>\n",
              "      <td>5,794,300.00</td>\n",
              "      <td>5,265,300.00</td>\n",
              "      <td>4,485,000.00</td>\n",
              "      <td>3,930,700.00</td>\n",
              "      <td>3,602,400.00</td>\n",
              "      <td>3,551,000.00</td>\n",
              "      <td>3,405,900.00</td>\n",
              "      <td>3,209,800.00</td>\n",
              "      <td>2,840,600.00</td>\n",
              "      <td>3,167,100.00</td>\n",
              "      <td>3,215,200.00</td>\n",
              "      <td>2,855,900.00</td>\n",
              "      <td>3,020,900.00</td>\n",
              "      <td>3,007,600.00</td>\n",
              "      <td>3,083,500.00</td>\n",
              "      <td>2,949,248.00</td>\n",
              "      <td>2,627,404.00</td>\n",
              "      <td>2,072,438.00</td>\n",
              "      <td>2,081,206.00</td>\n",
              "      <td>2,604,956.00</td>\n",
              "      <td>nan</td>\n",
              "      <td>nan</td>\n",
              "      <td>nan</td>\n",
              "      <td>nan</td>\n",
              "      <td>nan</td>\n",
              "      <td>7,817,344.20</td>\n",
              "      <td>9,140,452.13</td>\n",
              "      <td>9,570,161.79</td>\n",
              "      <td>8,677,884.00</td>\n",
              "      <td>8,030,237.17</td>\n",
              "      <td>8,696,300.00</td>\n",
              "      <td>8,129,874.00</td>\n",
              "      <td>8,837,017.00</td>\n",
              "      <td>12,337,766.28</td>\n",
              "      <td>11,346,590.74</td>\n",
              "      <td>nan</td>\n",
              "      <td>nan</td>\n",
              "    </tr>\n",
              "    <tr>\n",
              "      <th>4</th>\n",
              "      <td>Angola</td>\n",
              "      <td>AGO</td>\n",
              "      <td>Air transport, passengers carried</td>\n",
              "      <td>IS.AIR.PSGR</td>\n",
              "      <td>nan</td>\n",
              "      <td>nan</td>\n",
              "      <td>nan</td>\n",
              "      <td>nan</td>\n",
              "      <td>nan</td>\n",
              "      <td>nan</td>\n",
              "      <td>nan</td>\n",
              "      <td>nan</td>\n",
              "      <td>nan</td>\n",
              "      <td>nan</td>\n",
              "      <td>nan</td>\n",
              "      <td>nan</td>\n",
              "      <td>nan</td>\n",
              "      <td>nan</td>\n",
              "      <td>nan</td>\n",
              "      <td>nan</td>\n",
              "      <td>155,400.00</td>\n",
              "      <td>282,700.00</td>\n",
              "      <td>308,000.00</td>\n",
              "      <td>546,100.00</td>\n",
              "      <td>635,200.00</td>\n",
              "      <td>801,100.00</td>\n",
              "      <td>890,500.00</td>\n",
              "      <td>952,500.00</td>\n",
              "      <td>689,600.00</td>\n",
              "      <td>894,200.00</td>\n",
              "      <td>727,000.00</td>\n",
              "      <td>746,000.00</td>\n",
              "      <td>750,000.00</td>\n",
              "      <td>509,800.00</td>\n",
              "      <td>451,500.00</td>\n",
              "      <td>456,000.00</td>\n",
              "      <td>440,000.00</td>\n",
              "      <td>333,500.00</td>\n",
              "      <td>519,000.00</td>\n",
              "      <td>552,500.00</td>\n",
              "      <td>585,000.00</td>\n",
              "      <td>555,000.00</td>\n",
              "      <td>552,900.00</td>\n",
              "      <td>293,800.00</td>\n",
              "      <td>235,448.00</td>\n",
              "      <td>193,317.00</td>\n",
              "      <td>189,619.00</td>\n",
              "      <td>198,253.00</td>\n",
              "      <td>222,032.00</td>\n",
              "      <td>239,795.00</td>\n",
              "      <td>262,666.00</td>\n",
              "      <td>277,361.00</td>\n",
              "      <td>283,887.00</td>\n",
              "      <td>274,869.00</td>\n",
              "      <td>1,010,194.00</td>\n",
              "      <td>987,798.00</td>\n",
              "      <td>1,132,424.00</td>\n",
              "      <td>1,321,872.00</td>\n",
              "      <td>1,409,952.00</td>\n",
              "      <td>1,244,491.00</td>\n",
              "      <td>1,482,546.00</td>\n",
              "      <td>1,375,523.00</td>\n",
              "      <td>1,516,628.00</td>\n",
              "      <td>1,436,959.00</td>\n",
              "      <td>nan</td>\n",
              "      <td>nan</td>\n",
              "    </tr>\n",
              "  </tbody>\n",
              "</table>\n",
              "</div>"
            ],
            "text/plain": [
              "                  Country Name Country Code  ... 2020 Unnamed: 65\n",
              "0                        Aruba          ABW  ...  nan         nan\n",
              "1  Africa Eastern and Southern          AFE  ...  nan         nan\n",
              "2                  Afghanistan          AFG  ...  nan         nan\n",
              "3   Africa Western and Central          AFW  ...  nan         nan\n",
              "4                       Angola          AGO  ...  nan         nan\n",
              "\n",
              "[5 rows x 66 columns]"
            ]
          },
          "metadata": {},
          "execution_count": 6
        }
      ]
    },
    {
      "cell_type": "code",
      "metadata": {
        "id": "USDJiSgawibl",
        "colab": {
          "base_uri": "https://localhost:8080/"
        },
        "outputId": "c6c77499-d9f1-486f-f381-794b5c23a8a9"
      },
      "source": [
        "ts_data.shape"
      ],
      "execution_count": 7,
      "outputs": [
        {
          "output_type": "execute_result",
          "data": {
            "text/plain": [
              "(266, 66)"
            ]
          },
          "metadata": {},
          "execution_count": 7
        }
      ]
    },
    {
      "cell_type": "code",
      "metadata": {
        "colab": {
          "base_uri": "https://localhost:8080/"
        },
        "id": "Xw7npa-Nz7cG",
        "outputId": "9aac7c29-c3a1-4dbc-c757-df61cf5d7f6d"
      },
      "source": [
        "ts_data['Indicator Name'].value_counts()"
      ],
      "execution_count": 8,
      "outputs": [
        {
          "output_type": "execute_result",
          "data": {
            "text/plain": [
              "Air transport, passengers carried    266\n",
              "Name: Indicator Name, dtype: int64"
            ]
          },
          "metadata": {},
          "execution_count": 8
        }
      ]
    },
    {
      "cell_type": "code",
      "metadata": {
        "id": "Sff6AUiE0lm2"
      },
      "source": [
        "#drop non-necessary columns, and columns where data is always incomplete\n",
        "drop_cols = ['Country Code', 'Indicator Name', 'Indicator Code',\n",
        "       '1960', '1961', '1962', '1963', '1964', '1965', '1966', '1967', '1968',\n",
        "       '1969', '2020', 'Unnamed: 65']"
      ],
      "execution_count": 9,
      "outputs": []
    },
    {
      "cell_type": "code",
      "metadata": {
        "colab": {
          "base_uri": "https://localhost:8080/"
        },
        "id": "evndsW3Y0JxV",
        "outputId": "ba8f088c-4288-4e5e-dc7b-5f1581df3167"
      },
      "source": [
        "#create \"prep\" df, to be used for analysis\n",
        "ts_data_prep = ts_data.drop(columns=drop_cols).copy()\n",
        "\n",
        "#drop missing values (this is a very simplistic solution, other solutions such as inputing could have been used)\n",
        "ts_data_prep.dropna(inplace=True)\n",
        "\n",
        "#by running the shape method, we can see we are left with 106 rows & 51 columns, while we started with 266 and 66\n",
        "ts_data_prep.shape"
      ],
      "execution_count": 10,
      "outputs": [
        {
          "output_type": "execute_result",
          "data": {
            "text/plain": [
              "(106, 51)"
            ]
          },
          "metadata": {},
          "execution_count": 10
        }
      ]
    },
    {
      "cell_type": "code",
      "metadata": {
        "id": "6skNrec41LGr"
      },
      "source": [
        "#let's melt the dataframe so that the df is prepped for Prophet\n",
        "ts_data_prep = ts_data_prep.melt(id_vars='Country Name').rename(columns={'variable':'Year'})"
      ],
      "execution_count": 11,
      "outputs": []
    },
    {
      "cell_type": "code",
      "metadata": {
        "id": "9Mc68s7k8GoN"
      },
      "source": [
        "#let's pick 2 countries: BE and USA\n",
        "ts_data_prep_be = ts_data_prep.loc[ts_data_prep['Country Name'] == 'Belgium']\n",
        "ts_data_prep_us = ts_data_prep.loc[ts_data_prep['Country Name'] == 'United States']"
      ],
      "execution_count": 12,
      "outputs": []
    },
    {
      "cell_type": "markdown",
      "metadata": {
        "id": "xSUQE3Plwr0_"
      },
      "source": [
        "<br><br>\n",
        "### <font color=White>**4. Take a look at the descriptive stats**</font>\n",
        "\n",
        "* What is the min/average/max numbe of passengers per year?\n"
      ]
    },
    {
      "cell_type": "code",
      "metadata": {
        "id": "qEZn3jqjw2A_",
        "colab": {
          "base_uri": "https://localhost:8080/",
          "height": 300
        },
        "outputId": "9b75e57c-acd0-4938-be49-66685301e075"
      },
      "source": [
        "ts_data_prep_be.describe()"
      ],
      "execution_count": 32,
      "outputs": [
        {
          "output_type": "execute_result",
          "data": {
            "text/html": [
              "<div>\n",
              "<style scoped>\n",
              "    .dataframe tbody tr th:only-of-type {\n",
              "        vertical-align: middle;\n",
              "    }\n",
              "\n",
              "    .dataframe tbody tr th {\n",
              "        vertical-align: top;\n",
              "    }\n",
              "\n",
              "    .dataframe thead th {\n",
              "        text-align: right;\n",
              "    }\n",
              "</style>\n",
              "<table border=\"1\" class=\"dataframe\">\n",
              "  <thead>\n",
              "    <tr style=\"text-align: right;\">\n",
              "      <th></th>\n",
              "      <th>value</th>\n",
              "    </tr>\n",
              "  </thead>\n",
              "  <tbody>\n",
              "    <tr>\n",
              "      <th>count</th>\n",
              "      <td>50.00</td>\n",
              "    </tr>\n",
              "    <tr>\n",
              "      <th>mean</th>\n",
              "      <td>5,050,390.41</td>\n",
              "    </tr>\n",
              "    <tr>\n",
              "      <th>std</th>\n",
              "      <td>3,880,018.79</td>\n",
              "    </tr>\n",
              "    <tr>\n",
              "      <th>min</th>\n",
              "      <td>1,366,200.00</td>\n",
              "    </tr>\n",
              "    <tr>\n",
              "      <th>25%</th>\n",
              "      <td>2,034,425.00</td>\n",
              "    </tr>\n",
              "    <tr>\n",
              "      <th>50%</th>\n",
              "      <td>3,205,441.00</td>\n",
              "    </tr>\n",
              "    <tr>\n",
              "      <th>75%</th>\n",
              "      <td>8,248,901.83</td>\n",
              "    </tr>\n",
              "    <tr>\n",
              "      <th>max</th>\n",
              "      <td>14,279,187.00</td>\n",
              "    </tr>\n",
              "  </tbody>\n",
              "</table>\n",
              "</div>"
            ],
            "text/plain": [
              "              value\n",
              "count         50.00\n",
              "mean   5,050,390.41\n",
              "std    3,880,018.79\n",
              "min    1,366,200.00\n",
              "25%    2,034,425.00\n",
              "50%    3,205,441.00\n",
              "75%    8,248,901.83\n",
              "max   14,279,187.00"
            ]
          },
          "metadata": {},
          "execution_count": 32
        }
      ]
    },
    {
      "cell_type": "code",
      "metadata": {
        "id": "GxqRgSibw-md",
        "colab": {
          "base_uri": "https://localhost:8080/",
          "height": 312
        },
        "outputId": "6a7c6dbc-06f5-42e2-ae00-06bd77a7cb93"
      },
      "source": [
        "#BE\n",
        "# Create a histogram to observe the distribution of passengers per year\n",
        "ts_data_prep_be['value'].hist(color='blue', alpha=0.5, bins=20)\n",
        "\n",
        "# Add labels\n",
        "plt.title('Histogram')\n",
        "plt.xlabel('Passengers per year')\n",
        "plt.ylabel('Frequency')\n",
        "\n",
        "#data looks quite spread out"
      ],
      "execution_count": 14,
      "outputs": [
        {
          "output_type": "execute_result",
          "data": {
            "text/plain": [
              "Text(0, 0.5, 'Frequency')"
            ]
          },
          "metadata": {},
          "execution_count": 14
        },
        {
          "output_type": "display_data",
          "data": {
            "image/png": "[encoded data removed]",
            "text/plain": [
              "<Figure size 432x288 with 1 Axes>"
            ]
          },
          "metadata": {
            "needs_background": "light"
          }
        }
      ]
    },
    {
      "cell_type": "code",
      "metadata": {
        "colab": {
          "base_uri": "https://localhost:8080/",
          "height": 307
        },
        "id": "S1lh5Nq79cF0",
        "outputId": "2e4fe176-e4e5-4551-c76f-d34aa390f6da"
      },
      "source": [
        "# Create a line chart to observe the evolution of passengers (per year)\n",
        "\n",
        "ts_data_prep_be.set_index('Year').plot(color='blue', alpha=0.5)\n",
        "\n",
        "#the graph shows a clear drop in 2001, we can deduce it most likely has something to do with 9/11"
      ],
      "execution_count": 15,
      "outputs": [
        {
          "output_type": "execute_result",
          "data": {
            "text/plain": [
              "<matplotlib.axes._subplots.AxesSubplot at 0x7f7834601190>"
            ]
          },
          "metadata": {},
          "execution_count": 15
        },
        {
          "output_type": "display_data",
          "data": {
            "image/png": "[encoded data removed]",
            "text/plain": [
              "<Figure size 432x288 with 1 Axes>"
            ]
          },
          "metadata": {
            "needs_background": "light"
          }
        }
      ]
    },
    {
      "cell_type": "code",
      "metadata": {
        "colab": {
          "base_uri": "https://localhost:8080/",
          "height": 312
        },
        "id": "jY-ctcq19YEn",
        "outputId": "941660a8-0477-4534-cca7-8a2fcd75bfd3"
      },
      "source": [
        "#US\n",
        "# Create a histogram to observe the distribution of passengers per year\n",
        "ts_data_prep_us['value'].hist(color='blue', alpha=0.5, bins=20)\n",
        "\n",
        "# Add labels\n",
        "plt.title('Histogram')\n",
        "plt.xlabel('Passengers per year')\n",
        "plt.ylabel('Frequency')\n",
        "\n",
        "#data looks quite spread out"
      ],
      "execution_count": 16,
      "outputs": [
        {
          "output_type": "execute_result",
          "data": {
            "text/plain": [
              "Text(0, 0.5, 'Frequency')"
            ]
          },
          "metadata": {},
          "execution_count": 16
        },
        {
          "output_type": "display_data",
          "data": {
            "image/png": "[encoded data removed]",
            "text/plain": [
              "<Figure size 432x288 with 1 Axes>"
            ]
          },
          "metadata": {
            "needs_background": "light"
          }
        }
      ]
    },
    {
      "cell_type": "code",
      "metadata": {
        "id": "vfUKUt8d5z8f",
        "colab": {
          "base_uri": "https://localhost:8080/",
          "height": 307
        },
        "outputId": "537b49e7-7a91-4ab8-cb8e-26b6cc951d15"
      },
      "source": [
        "# Create a line chart to observe the evolution of passengers (per year)\n",
        "\n",
        "ts_data_prep_us.set_index('Year').plot(color='blue', alpha=0.5)\n",
        "\n",
        "#surprisingly, the drop in 2000 is much less pronounced in the US than in Belgium.\n",
        "#this is the point where having a chat with a domain expert is important\n",
        "#since we don't have that option, let's pick another country to see the pattern there"
      ],
      "execution_count": 17,
      "outputs": [
        {
          "output_type": "execute_result",
          "data": {
            "text/plain": [
              "<matplotlib.axes._subplots.AxesSubplot at 0x7f783408bf50>"
            ]
          },
          "metadata": {},
          "execution_count": 17
        },
        {
          "output_type": "display_data",
          "data": {
            "image/png": "[encoded data removed]",
            "text/plain": [
              "<Figure size 432x288 with 1 Axes>"
            ]
          },
          "metadata": {
            "needs_background": "light"
          }
        }
      ]
    },
    {
      "cell_type": "code",
      "metadata": {
        "colab": {
          "base_uri": "https://localhost:8080/",
          "height": 307
        },
        "id": "Y4UQhGN3-Ain",
        "outputId": "1eaf1d38-0468-4861-e1e0-cc606d8b3543"
      },
      "source": [
        "#france looks like the US [not showing it, but DE and IT also look closer to the US than to BE]\n",
        "#belgium could be an outlier, so to be safe let's replace it with France\n",
        "ts_data_prep_fr = ts_data_prep.loc[ts_data_prep['Country Name'] == 'France']\n",
        "ts_data_prep_fr.set_index('Year').plot(color='blue', alpha=0.5)"
      ],
      "execution_count": 18,
      "outputs": [
        {
          "output_type": "execute_result",
          "data": {
            "text/plain": [
              "<matplotlib.axes._subplots.AxesSubplot at 0x7f7834001610>"
            ]
          },
          "metadata": {},
          "execution_count": 18
        },
        {
          "output_type": "display_data",
          "data": {
            "image/png": "[encoded data removed]",
            "text/plain": [
              "<Figure size 432x288 with 1 Axes>"
            ]
          },
          "metadata": {
            "needs_background": "light"
          }
        }
      ]
    },
    {
      "cell_type": "markdown",
      "metadata": {
        "id": "rcSLaWJlGjlT"
      },
      "source": [
        "<br><br>\n",
        "### <font color=White>5. Declare the variable to predict (*y*) and the date (*ds*) </font>"
      ]
    },
    {
      "cell_type": "code",
      "metadata": {
        "id": "raA23g5PGqdx",
        "colab": {
          "base_uri": "https://localhost:8080/",
          "height": 206
        },
        "outputId": "68e0bc3f-bb6e-49a7-d62a-4deb6c4bdf7f"
      },
      "source": [
        "#let's prepare the data for Prophet\n",
        "ts_pred_fr = ts_data_prep_fr.iloc[:,1:]\n",
        "ts_pred_fr.columns = [\"ds\", \"y\"]\n",
        "ts_pred_fr.head(5)"
      ],
      "execution_count": 19,
      "outputs": [
        {
          "output_type": "execute_result",
          "data": {
            "text/html": [
              "<div>\n",
              "<style scoped>\n",
              "    .dataframe tbody tr th:only-of-type {\n",
              "        vertical-align: middle;\n",
              "    }\n",
              "\n",
              "    .dataframe tbody tr th {\n",
              "        vertical-align: top;\n",
              "    }\n",
              "\n",
              "    .dataframe thead th {\n",
              "        text-align: right;\n",
              "    }\n",
              "</style>\n",
              "<table border=\"1\" class=\"dataframe\">\n",
              "  <thead>\n",
              "    <tr style=\"text-align: right;\">\n",
              "      <th></th>\n",
              "      <th>ds</th>\n",
              "      <th>y</th>\n",
              "    </tr>\n",
              "  </thead>\n",
              "  <tbody>\n",
              "    <tr>\n",
              "      <th>31</th>\n",
              "      <td>1970</td>\n",
              "      <td>9,108,000.00</td>\n",
              "    </tr>\n",
              "    <tr>\n",
              "      <th>137</th>\n",
              "      <td>1971</td>\n",
              "      <td>9,569,200.00</td>\n",
              "    </tr>\n",
              "    <tr>\n",
              "      <th>243</th>\n",
              "      <td>1972</td>\n",
              "      <td>11,285,100.00</td>\n",
              "    </tr>\n",
              "    <tr>\n",
              "      <th>349</th>\n",
              "      <td>1973</td>\n",
              "      <td>11,957,500.00</td>\n",
              "    </tr>\n",
              "    <tr>\n",
              "      <th>455</th>\n",
              "      <td>1974</td>\n",
              "      <td>12,159,300.00</td>\n",
              "    </tr>\n",
              "  </tbody>\n",
              "</table>\n",
              "</div>"
            ],
            "text/plain": [
              "       ds             y\n",
              "31   1970  9,108,000.00\n",
              "137  1971  9,569,200.00\n",
              "243  1972 11,285,100.00\n",
              "349  1973 11,957,500.00\n",
              "455  1974 12,159,300.00"
            ]
          },
          "metadata": {},
          "execution_count": 19
        }
      ]
    },
    {
      "cell_type": "markdown",
      "metadata": {
        "id": "zf-LiFVMHCU1"
      },
      "source": [
        "<br><br>\n",
        "### <font color=White>6. Making a prediction </font>"
      ]
    },
    {
      "cell_type": "markdown",
      "metadata": {
        "id": "pcNfR1gnH5Sj"
      },
      "source": [
        "* Create the first model ($m_1$) and fit the data to our dataframe:"
      ]
    },
    {
      "cell_type": "code",
      "metadata": {
        "id": "zpjOsWNtESFq"
      },
      "source": [
        "#one important parameter for the model is growth, which function to use\n",
        "#default is linear, which assumes a linear growth (see below cell)\n",
        "#realistically, this is a very optimistic function, as economies get richer, and\n",
        "#air travel gets more accessible, but there is such a thing as diminishing returns\n",
        "#(if we look at the linear plots for DE and IT we can see them already)\n",
        "#it's what FB call a \"saturating forecast\"\n",
        "#this we can manage with some hyperparameter tuning (growth)\n",
        "#and by picking cap & floor values\n",
        "\n",
        "ts_pred_fr['cap'] = ts_data_prep_fr['value'].max()*1.1\n",
        "ts_pred_fr['floor'] = ts_data_prep_fr['value'].min()*0.9\n"
      ],
      "execution_count": 20,
      "outputs": []
    },
    {
      "cell_type": "code",
      "metadata": {
        "id": "z5oDOfOjH_cB",
        "colab": {
          "base_uri": "https://localhost:8080/",
          "height": 441
        },
        "outputId": "66442a4a-6dbd-49d2-a6e5-3edd5ec8b404"
      },
      "source": [
        "m2= Prophet(daily_seasonality=False, weekly_seasonality=False)\n",
        "m2.fit(ts_pred_fr[['ds', 'y']])\n",
        "future = m2.make_future_dataframe(periods=12, freq='Y')\n",
        "forecast = m2.predict(future)\n",
        "m2.plot(forecast);"
      ],
      "execution_count": 21,
      "outputs": [
        {
          "output_type": "display_data",
          "data": {
            "image/png": "[encoded data removed]",
            "text/plain": [
              "<Figure size 720x432 with 1 Axes>"
            ]
          },
          "metadata": {}
        }
      ]
    },
    {
      "cell_type": "code",
      "metadata": {
        "colab": {
          "base_uri": "https://localhost:8080/"
        },
        "id": "MwHQrG9QFpvC",
        "outputId": "bacf1503-4c91-4505-d346-fa6c69baf722"
      },
      "source": [
        "m1= Prophet(growth='logistic', changepoint_prior_scale=1, daily_seasonality=False, weekly_seasonality=False)\n",
        "m1.fit(ts_pred_fr)"
      ],
      "execution_count": 22,
      "outputs": [
        {
          "output_type": "execute_result",
          "data": {
            "text/plain": [
              "<fbprophet.forecaster.Prophet at 0x7f783400ef90>"
            ]
          },
          "metadata": {},
          "execution_count": 22
        }
      ]
    },
    {
      "cell_type": "markdown",
      "metadata": {
        "id": "j9gm5BX0IsDD"
      },
      "source": [
        "<br><br>\n",
        "* To tell **Prophet** how far to predict in the future, use  ```make_future_dataframe```. "
      ]
    },
    {
      "cell_type": "code",
      "metadata": {
        "id": "2H6ESg9TJCty"
      },
      "source": [
        "# let's pick the prediction period, e.g. 12 years\n",
        "future = m1.make_future_dataframe(periods=12, freq='Y')\n",
        "future['cap'] = ts_data_prep_fr['value'].max()*1.1\n",
        "future['floor'] = ts_data_prep_fr['value'].min()*0.9\n",
        "\n",
        "# then make the forecast\n",
        "forecast = m1.predict(future)"
      ],
      "execution_count": 23,
      "outputs": []
    },
    {
      "cell_type": "code",
      "metadata": {
        "id": "FN4QRVg5J6jm",
        "colab": {
          "base_uri": "https://localhost:8080/",
          "height": 206
        },
        "outputId": "2eb804c0-9117-4c59-8ee8-5c14ee4fbbea"
      },
      "source": [
        "# To see the last 5 predicted values:\n",
        "forecast[['ds', 'yhat', 'yhat_lower', 'yhat_upper','floor','cap']].tail()"
      ],
      "execution_count": 24,
      "outputs": [
        {
          "output_type": "execute_result",
          "data": {
            "text/html": [
              "<div>\n",
              "<style scoped>\n",
              "    .dataframe tbody tr th:only-of-type {\n",
              "        vertical-align: middle;\n",
              "    }\n",
              "\n",
              "    .dataframe tbody tr th {\n",
              "        vertical-align: top;\n",
              "    }\n",
              "\n",
              "    .dataframe thead th {\n",
              "        text-align: right;\n",
              "    }\n",
              "</style>\n",
              "<table border=\"1\" class=\"dataframe\">\n",
              "  <thead>\n",
              "    <tr style=\"text-align: right;\">\n",
              "      <th></th>\n",
              "      <th>ds</th>\n",
              "      <th>yhat</th>\n",
              "      <th>yhat_lower</th>\n",
              "      <th>yhat_upper</th>\n",
              "      <th>floor</th>\n",
              "      <th>cap</th>\n",
              "    </tr>\n",
              "  </thead>\n",
              "  <tbody>\n",
              "    <tr>\n",
              "      <th>57</th>\n",
              "      <td>2026-12-31</td>\n",
              "      <td>71,941,523.20</td>\n",
              "      <td>69,432,996.53</td>\n",
              "      <td>74,622,684.32</td>\n",
              "      <td>8,197,200.00</td>\n",
              "      <td>78,418,204.70</td>\n",
              "    </tr>\n",
              "    <tr>\n",
              "      <th>58</th>\n",
              "      <td>2027-12-31</td>\n",
              "      <td>72,321,743.90</td>\n",
              "      <td>69,748,822.65</td>\n",
              "      <td>74,895,786.17</td>\n",
              "      <td>8,197,200.00</td>\n",
              "      <td>78,418,204.70</td>\n",
              "    </tr>\n",
              "    <tr>\n",
              "      <th>59</th>\n",
              "      <td>2028-12-31</td>\n",
              "      <td>72,025,431.83</td>\n",
              "      <td>69,552,375.67</td>\n",
              "      <td>74,916,078.13</td>\n",
              "      <td>8,197,200.00</td>\n",
              "      <td>78,418,204.70</td>\n",
              "    </tr>\n",
              "    <tr>\n",
              "      <th>60</th>\n",
              "      <td>2029-12-31</td>\n",
              "      <td>72,309,166.40</td>\n",
              "      <td>69,641,048.86</td>\n",
              "      <td>74,979,857.00</td>\n",
              "      <td>8,197,200.00</td>\n",
              "      <td>78,418,204.70</td>\n",
              "    </tr>\n",
              "    <tr>\n",
              "      <th>61</th>\n",
              "      <td>2030-12-31</td>\n",
              "      <td>72,604,310.41</td>\n",
              "      <td>69,909,653.51</td>\n",
              "      <td>75,479,364.82</td>\n",
              "      <td>8,197,200.00</td>\n",
              "      <td>78,418,204.70</td>\n",
              "    </tr>\n",
              "  </tbody>\n",
              "</table>\n",
              "</div>"
            ],
            "text/plain": [
              "           ds          yhat  ...        floor           cap\n",
              "57 2026-12-31 71,941,523.20  ... 8,197,200.00 78,418,204.70\n",
              "58 2027-12-31 72,321,743.90  ... 8,197,200.00 78,418,204.70\n",
              "59 2028-12-31 72,025,431.83  ... 8,197,200.00 78,418,204.70\n",
              "60 2029-12-31 72,309,166.40  ... 8,197,200.00 78,418,204.70\n",
              "61 2030-12-31 72,604,310.41  ... 8,197,200.00 78,418,204.70\n",
              "\n",
              "[5 rows x 6 columns]"
            ]
          },
          "metadata": {},
          "execution_count": 24
        }
      ]
    },
    {
      "cell_type": "code",
      "metadata": {
        "id": "WyowijpKL1qM",
        "colab": {
          "base_uri": "https://localhost:8080/",
          "height": 441
        },
        "outputId": "e453027a-9188-4f93-84ed-18f51406c785"
      },
      "source": [
        "# Plot the data\n",
        "m1.plot(forecast);\n",
        "\n",
        "#looking at the graph, our POC model looks plausible (albeit, certainly improvable)\n",
        "#most dots (datapoints) lie within the blue band, our confidence interval"
      ],
      "execution_count": 25,
      "outputs": [
        {
          "output_type": "display_data",
          "data": {
            "image/png": "[encoded data removed]",
            "text/plain": [
              "<Figure size 720x432 with 1 Axes>"
            ]
          },
          "metadata": {}
        }
      ]
    },
    {
      "cell_type": "code",
      "metadata": {
        "colab": {
          "base_uri": "https://localhost:8080/",
          "height": 441
        },
        "id": "zSwgHdfmGbaU",
        "outputId": "260b5db9-ff8c-49d8-d00d-ee88a2079ab7"
      },
      "source": [
        "#let's repeat for the US\n",
        "\n",
        "ts_pred_us = ts_data_prep_us.iloc[:,1:]\n",
        "ts_pred_us.columns = [\"ds\", \"y\"]\n",
        "\n",
        "ts_pred_us['cap'] = ts_data_prep_us['value'].max()*1.1\n",
        "ts_pred_us['floor'] = ts_data_prep_us['value'].min()*0.9\n",
        "\n",
        "m1_us= Prophet(growth='logistic', changepoint_prior_scale=1, daily_seasonality=False, weekly_seasonality=False)\n",
        "m1_us.fit(ts_pred_us)\n",
        "\n",
        "future_us = m1.make_future_dataframe(periods=12, freq='Y')\n",
        "future_us['cap'] = ts_data_prep_us['value'].max()*1.1\n",
        "future_us['floor'] = ts_data_prep_us['value'].min()*0.9\n",
        "\n",
        "# then make the forecast\n",
        "forecast_us = m1_us.predict(future_us)\n",
        "m1_us.plot(forecast_us);\n",
        "\n",
        "# as for france, the US model seems belivable if we look at the past, but the last\n",
        "# few years before 2019 saw a surge in growth, which the model is not capturing\n",
        "# this should usggest us that the model could be a bit conservative, \n",
        "# and in future iterations we should either tune the hyperparameters better or pick a different model"
      ],
      "execution_count": 26,
      "outputs": [
        {
          "output_type": "display_data",
          "data": {
            "image/png": "[encoded data removed]",
            "text/plain": [
              "<Figure size 720x432 with 1 Axes>"
            ]
          },
          "metadata": {}
        }
      ]
    },
    {
      "cell_type": "code",
      "metadata": {
        "id": "4OrTUssqHxww",
        "colab": {
          "base_uri": "https://localhost:8080/",
          "height": 426
        },
        "outputId": "acbd5c3f-3a0d-49fe-931f-ee6efc4dc003"
      },
      "source": [
        "#let's generate an export file with the predictions, so we can compare\n",
        "forecast = forecast.rename(columns={'yhat':'pred_fr'})\n",
        "forecast_export = forecast.tail(12)[['ds', 'pred_fr']].merge(forecast_us[['ds', 'yhat']], on='ds', how='left').rename(columns={'yhat':'pred_us'})\n",
        "forecast_export"
      ],
      "execution_count": 27,
      "outputs": [
        {
          "output_type": "execute_result",
          "data": {
            "text/html": [
              "<div>\n",
              "<style scoped>\n",
              "    .dataframe tbody tr th:only-of-type {\n",
              "        vertical-align: middle;\n",
              "    }\n",
              "\n",
              "    .dataframe tbody tr th {\n",
              "        vertical-align: top;\n",
              "    }\n",
              "\n",
              "    .dataframe thead th {\n",
              "        text-align: right;\n",
              "    }\n",
              "</style>\n",
              "<table border=\"1\" class=\"dataframe\">\n",
              "  <thead>\n",
              "    <tr style=\"text-align: right;\">\n",
              "      <th></th>\n",
              "      <th>ds</th>\n",
              "      <th>pred_fr</th>\n",
              "      <th>pred_us</th>\n",
              "    </tr>\n",
              "  </thead>\n",
              "  <tbody>\n",
              "    <tr>\n",
              "      <th>0</th>\n",
              "      <td>2019-12-31</td>\n",
              "      <td>69,934,002.80</td>\n",
              "      <td>856,522,483.48</td>\n",
              "    </tr>\n",
              "    <tr>\n",
              "      <th>1</th>\n",
              "      <td>2020-12-31</td>\n",
              "      <td>69,888,901.63</td>\n",
              "      <td>878,333,813.21</td>\n",
              "    </tr>\n",
              "    <tr>\n",
              "      <th>2</th>\n",
              "      <td>2021-12-31</td>\n",
              "      <td>70,398,687.44</td>\n",
              "      <td>884,045,471.81</td>\n",
              "    </tr>\n",
              "    <tr>\n",
              "      <th>3</th>\n",
              "      <td>2022-12-31</td>\n",
              "      <td>70,897,444.20</td>\n",
              "      <td>887,378,942.39</td>\n",
              "    </tr>\n",
              "    <tr>\n",
              "      <th>4</th>\n",
              "      <td>2023-12-31</td>\n",
              "      <td>71,388,665.79</td>\n",
              "      <td>888,375,853.91</td>\n",
              "    </tr>\n",
              "    <tr>\n",
              "      <th>5</th>\n",
              "      <td>2024-12-31</td>\n",
              "      <td>71,192,486.92</td>\n",
              "      <td>907,801,239.58</td>\n",
              "    </tr>\n",
              "    <tr>\n",
              "      <th>6</th>\n",
              "      <td>2025-12-31</td>\n",
              "      <td>71,565,915.96</td>\n",
              "      <td>911,266,348.41</td>\n",
              "    </tr>\n",
              "    <tr>\n",
              "      <th>7</th>\n",
              "      <td>2026-12-31</td>\n",
              "      <td>71,941,523.20</td>\n",
              "      <td>912,486,134.69</td>\n",
              "    </tr>\n",
              "    <tr>\n",
              "      <th>8</th>\n",
              "      <td>2027-12-31</td>\n",
              "      <td>72,321,743.90</td>\n",
              "      <td>911,500,845.10</td>\n",
              "    </tr>\n",
              "    <tr>\n",
              "      <th>9</th>\n",
              "      <td>2028-12-31</td>\n",
              "      <td>72,025,431.83</td>\n",
              "      <td>929,067,951.88</td>\n",
              "    </tr>\n",
              "    <tr>\n",
              "      <th>10</th>\n",
              "      <td>2029-12-31</td>\n",
              "      <td>72,309,166.40</td>\n",
              "      <td>930,805,171.85</td>\n",
              "    </tr>\n",
              "    <tr>\n",
              "      <th>11</th>\n",
              "      <td>2030-12-31</td>\n",
              "      <td>72,604,310.41</td>\n",
              "      <td>930,417,736.53</td>\n",
              "    </tr>\n",
              "  </tbody>\n",
              "</table>\n",
              "</div>"
            ],
            "text/plain": [
              "           ds       pred_fr        pred_us\n",
              "0  2019-12-31 69,934,002.80 856,522,483.48\n",
              "1  2020-12-31 69,888,901.63 878,333,813.21\n",
              "2  2021-12-31 70,398,687.44 884,045,471.81\n",
              "3  2022-12-31 70,897,444.20 887,378,942.39\n",
              "4  2023-12-31 71,388,665.79 888,375,853.91\n",
              "5  2024-12-31 71,192,486.92 907,801,239.58\n",
              "6  2025-12-31 71,565,915.96 911,266,348.41\n",
              "7  2026-12-31 71,941,523.20 912,486,134.69\n",
              "8  2027-12-31 72,321,743.90 911,500,845.10\n",
              "9  2028-12-31 72,025,431.83 929,067,951.88\n",
              "10 2029-12-31 72,309,166.40 930,805,171.85\n",
              "11 2030-12-31 72,604,310.41 930,417,736.53"
            ]
          },
          "metadata": {},
          "execution_count": 27
        }
      ]
    },
    {
      "cell_type": "code",
      "metadata": {
        "colab": {
          "base_uri": "https://localhost:8080/",
          "height": 426
        },
        "id": "Kmxyd_yBJNQY",
        "outputId": "5e03446e-c9b3-4629-b878-474f2f53c21e"
      },
      "source": [
        "forecast_export"
      ],
      "execution_count": 28,
      "outputs": [
        {
          "output_type": "execute_result",
          "data": {
            "text/html": [
              "<div>\n",
              "<style scoped>\n",
              "    .dataframe tbody tr th:only-of-type {\n",
              "        vertical-align: middle;\n",
              "    }\n",
              "\n",
              "    .dataframe tbody tr th {\n",
              "        vertical-align: top;\n",
              "    }\n",
              "\n",
              "    .dataframe thead th {\n",
              "        text-align: right;\n",
              "    }\n",
              "</style>\n",
              "<table border=\"1\" class=\"dataframe\">\n",
              "  <thead>\n",
              "    <tr style=\"text-align: right;\">\n",
              "      <th></th>\n",
              "      <th>ds</th>\n",
              "      <th>pred_fr</th>\n",
              "      <th>pred_us</th>\n",
              "    </tr>\n",
              "  </thead>\n",
              "  <tbody>\n",
              "    <tr>\n",
              "      <th>0</th>\n",
              "      <td>2019-12-31</td>\n",
              "      <td>69,934,002.80</td>\n",
              "      <td>856,522,483.48</td>\n",
              "    </tr>\n",
              "    <tr>\n",
              "      <th>1</th>\n",
              "      <td>2020-12-31</td>\n",
              "      <td>69,888,901.63</td>\n",
              "      <td>878,333,813.21</td>\n",
              "    </tr>\n",
              "    <tr>\n",
              "      <th>2</th>\n",
              "      <td>2021-12-31</td>\n",
              "      <td>70,398,687.44</td>\n",
              "      <td>884,045,471.81</td>\n",
              "    </tr>\n",
              "    <tr>\n",
              "      <th>3</th>\n",
              "      <td>2022-12-31</td>\n",
              "      <td>70,897,444.20</td>\n",
              "      <td>887,378,942.39</td>\n",
              "    </tr>\n",
              "    <tr>\n",
              "      <th>4</th>\n",
              "      <td>2023-12-31</td>\n",
              "      <td>71,388,665.79</td>\n",
              "      <td>888,375,853.91</td>\n",
              "    </tr>\n",
              "    <tr>\n",
              "      <th>5</th>\n",
              "      <td>2024-12-31</td>\n",
              "      <td>71,192,486.92</td>\n",
              "      <td>907,801,239.58</td>\n",
              "    </tr>\n",
              "    <tr>\n",
              "      <th>6</th>\n",
              "      <td>2025-12-31</td>\n",
              "      <td>71,565,915.96</td>\n",
              "      <td>911,266,348.41</td>\n",
              "    </tr>\n",
              "    <tr>\n",
              "      <th>7</th>\n",
              "      <td>2026-12-31</td>\n",
              "      <td>71,941,523.20</td>\n",
              "      <td>912,486,134.69</td>\n",
              "    </tr>\n",
              "    <tr>\n",
              "      <th>8</th>\n",
              "      <td>2027-12-31</td>\n",
              "      <td>72,321,743.90</td>\n",
              "      <td>911,500,845.10</td>\n",
              "    </tr>\n",
              "    <tr>\n",
              "      <th>9</th>\n",
              "      <td>2028-12-31</td>\n",
              "      <td>72,025,431.83</td>\n",
              "      <td>929,067,951.88</td>\n",
              "    </tr>\n",
              "    <tr>\n",
              "      <th>10</th>\n",
              "      <td>2029-12-31</td>\n",
              "      <td>72,309,166.40</td>\n",
              "      <td>930,805,171.85</td>\n",
              "    </tr>\n",
              "    <tr>\n",
              "      <th>11</th>\n",
              "      <td>2030-12-31</td>\n",
              "      <td>72,604,310.41</td>\n",
              "      <td>930,417,736.53</td>\n",
              "    </tr>\n",
              "  </tbody>\n",
              "</table>\n",
              "</div>"
            ],
            "text/plain": [
              "           ds       pred_fr        pred_us\n",
              "0  2019-12-31 69,934,002.80 856,522,483.48\n",
              "1  2020-12-31 69,888,901.63 878,333,813.21\n",
              "2  2021-12-31 70,398,687.44 884,045,471.81\n",
              "3  2022-12-31 70,897,444.20 887,378,942.39\n",
              "4  2023-12-31 71,388,665.79 888,375,853.91\n",
              "5  2024-12-31 71,192,486.92 907,801,239.58\n",
              "6  2025-12-31 71,565,915.96 911,266,348.41\n",
              "7  2026-12-31 71,941,523.20 912,486,134.69\n",
              "8  2027-12-31 72,321,743.90 911,500,845.10\n",
              "9  2028-12-31 72,025,431.83 929,067,951.88\n",
              "10 2029-12-31 72,309,166.40 930,805,171.85\n",
              "11 2030-12-31 72,604,310.41 930,417,736.53"
            ]
          },
          "metadata": {},
          "execution_count": 28
        }
      ]
    },
    {
      "cell_type": "markdown",
      "metadata": {
        "id": "4L1iMQC6KVMU"
      },
      "source": [
        "Looking at the curve, and at the predicted values, France is supposed to grow slightly faster than the US, meaning our \"resource allocation informer tool\" suggests we should prioritize it (in this simplified example, ignoring anything except growth rates in carried passengers).\n",
        "Let's take a quick look at some cross-validation metrics to assess whether our little tool is working."
      ]
    },
    {
      "cell_type": "markdown",
      "metadata": {
        "id": "T8PV1m1FYyv5"
      },
      "source": [
        "<br><br>\n",
        "### <font color=White>7. Diagnostics </font>"
      ]
    },
    {
      "cell_type": "markdown",
      "metadata": {
        "id": "OhUPr9K6Y8e8"
      },
      "source": [
        "* Prophet includes functionality for time series cross validation to measure forecast error using historical data. \n",
        "* This is done by selecting cutoff points in the history, and for each of them fitting the model using data only up to that cutoff point. \n",
        "* We can then compare the forecasted values to the actual values. \n",
        "<br>"
      ]
    },
    {
      "cell_type": "code",
      "metadata": {
        "id": "LmF_F8n2brnv",
        "colab": {
          "base_uri": "https://localhost:8080/",
          "height": 256,
          "referenced_widgets": [
            "9e16dd4dfe104fe485e5e300a95d496b",
            "95d497612fd94ce4b714d7ec3917d3ee",
            "4da2e577735a4b47b2506afdf6f892c2",
            "56583ba560974e6fb501c5f5f9d218e3",
            "673c6f0e9feb49aab3256bc5cca60e5f",
            "b8013da81a874088837596863525edd3",
            "6588e507cddd48ac851c3985dbbc2366",
            "7fcb94f34ad0402e8a6f49d96e8b6de5",
            "eef9ced904db444daf47f1de7a6bee86",
            "3bc18dd408f04296bcc3a16a9f971300",
            "be302c58292242c7a9a9f6f896e6361c"
          ]
        },
        "outputId": "35d03881-e325-4bac-8304-6b7dbd360800"
      },
      "source": [
        "# Cross-validation\n",
        "from fbprophet.diagnostics import cross_validation\n",
        "df_cv = cross_validation(m1, horizon = '12 y')\n",
        "df_cv.head()"
      ],
      "execution_count": 29,
      "outputs": [
        {
          "output_type": "stream",
          "name": "stderr",
          "text": [
            "INFO:fbprophet:Making 1 forecasts with cutoffs between 2007-01-01 02:09:36 and 2007-01-01 02:09:36\n"
          ]
        },
        {
          "output_type": "display_data",
          "data": {
            "application/vnd.jupyter.widget-view+json": {
              "model_id": "9e16dd4dfe104fe485e5e300a95d496b",
              "version_minor": 0,
              "version_major": 2
            },
            "text/plain": [
              "  0%|          | 0/1 [00:00<?, ?it/s]"
            ]
          },
          "metadata": {}
        },
        {
          "output_type": "execute_result",
          "data": {
            "text/html": [
              "<div>\n",
              "<style scoped>\n",
              "    .dataframe tbody tr th:only-of-type {\n",
              "        vertical-align: middle;\n",
              "    }\n",
              "\n",
              "    .dataframe tbody tr th {\n",
              "        vertical-align: top;\n",
              "    }\n",
              "\n",
              "    .dataframe thead th {\n",
              "        text-align: right;\n",
              "    }\n",
              "</style>\n",
              "<table border=\"1\" class=\"dataframe\">\n",
              "  <thead>\n",
              "    <tr style=\"text-align: right;\">\n",
              "      <th></th>\n",
              "      <th>ds</th>\n",
              "      <th>yhat</th>\n",
              "      <th>yhat_lower</th>\n",
              "      <th>yhat_upper</th>\n",
              "      <th>y</th>\n",
              "      <th>cutoff</th>\n",
              "    </tr>\n",
              "  </thead>\n",
              "  <tbody>\n",
              "    <tr>\n",
              "      <th>0</th>\n",
              "      <td>2008-01-01</td>\n",
              "      <td>57,777,068.37</td>\n",
              "      <td>54,969,066.36</td>\n",
              "      <td>60,563,912.97</td>\n",
              "      <td>61,214,656.00</td>\n",
              "      <td>2007-01-01 02:09:36</td>\n",
              "    </tr>\n",
              "    <tr>\n",
              "      <th>1</th>\n",
              "      <td>2009-01-01</td>\n",
              "      <td>59,074,222.40</td>\n",
              "      <td>56,253,769.73</td>\n",
              "      <td>61,651,446.86</td>\n",
              "      <td>58,318,312.00</td>\n",
              "      <td>2007-01-01 02:09:36</td>\n",
              "    </tr>\n",
              "    <tr>\n",
              "      <th>2</th>\n",
              "      <td>2010-01-01</td>\n",
              "      <td>59,817,537.65</td>\n",
              "      <td>57,263,577.59</td>\n",
              "      <td>62,610,957.18</td>\n",
              "      <td>60,864,422.11</td>\n",
              "      <td>2007-01-01 02:09:36</td>\n",
              "    </tr>\n",
              "    <tr>\n",
              "      <th>3</th>\n",
              "      <td>2011-01-01</td>\n",
              "      <td>60,565,074.35</td>\n",
              "      <td>57,797,760.42</td>\n",
              "      <td>63,283,601.12</td>\n",
              "      <td>64,185,339.34</td>\n",
              "      <td>2007-01-01 02:09:36</td>\n",
              "    </tr>\n",
              "    <tr>\n",
              "      <th>4</th>\n",
              "      <td>2012-01-01</td>\n",
              "      <td>61,319,162.40</td>\n",
              "      <td>58,415,615.11</td>\n",
              "      <td>63,978,999.19</td>\n",
              "      <td>64,683,769.02</td>\n",
              "      <td>2007-01-01 02:09:36</td>\n",
              "    </tr>\n",
              "  </tbody>\n",
              "</table>\n",
              "</div>"
            ],
            "text/plain": [
              "          ds          yhat  ...             y              cutoff\n",
              "0 2008-01-01 57,777,068.37  ... 61,214,656.00 2007-01-01 02:09:36\n",
              "1 2009-01-01 59,074,222.40  ... 58,318,312.00 2007-01-01 02:09:36\n",
              "2 2010-01-01 59,817,537.65  ... 60,864,422.11 2007-01-01 02:09:36\n",
              "3 2011-01-01 60,565,074.35  ... 64,185,339.34 2007-01-01 02:09:36\n",
              "4 2012-01-01 61,319,162.40  ... 64,683,769.02 2007-01-01 02:09:36\n",
              "\n",
              "[5 rows x 6 columns]"
            ]
          },
          "metadata": {},
          "execution_count": 29
        }
      ]
    },
    {
      "cell_type": "code",
      "metadata": {
        "id": "QGGyzTrtcqWD",
        "colab": {
          "base_uri": "https://localhost:8080/"
        },
        "outputId": "e5de1192-9f75-424b-9ff3-bebb8dc6ceb9"
      },
      "source": [
        "# Performance metrics\n",
        "# if we look at errors in absolute terms, they are in the ballpark of millions\n",
        "# however, if we look in percentage terms, we should be fairly satisfied with our\n",
        "# little PoC, looking at this quick backtesting\n",
        "from fbprophet.diagnostics import performance_metrics\n",
        "df_p = performance_metrics(df_cv)\n",
        "df_p.head()\n",
        "df_p.mean(axis=0)"
      ],
      "execution_count": 30,
      "outputs": [
        {
          "output_type": "execute_result",
          "data": {
            "text/plain": [
              "horizon      2374 days 03:50:24\n",
              "mse        9,696,854,890,589.70\n",
              "rmse               2,638,883.74\n",
              "mae                2,638,883.74\n",
              "mape                       0.04\n",
              "mdape                      0.04\n",
              "coverage                   0.50\n",
              "dtype: object"
            ]
          },
          "metadata": {},
          "execution_count": 30
        }
      ]
    },
    {
      "cell_type": "markdown",
      "metadata": {
        "id": "iqQQk4-ccL_K"
      },
      "source": [
        "<br><br>\n",
        "### <font color=White>**7. Saving the predictions**</font>"
      ]
    },
    {
      "cell_type": "code",
      "metadata": {
        "id": "VQX7ZqsMNag6",
        "colab": {
          "base_uri": "https://localhost:8080/",
          "height": 17
        },
        "outputId": "ace20643-6547-4a15-88ce-6f440a7360d6"
      },
      "source": [
        "#To download the file with the forecasts as a .csv\n",
        "forecast_export.to_csv('forecast_export.csv')\n",
        "files.download('forecast_export.csv')"
      ],
      "execution_count": 31,
      "outputs": [
        {
          "output_type": "display_data",
          "data": {
            "application/javascript": [
              "\n",
              "    async function download(id, filename, size) {\n",
              "      if (!google.colab.kernel.accessAllowed) {\n",
              "        return;\n",
              "      }\n",
              "      const div = document.createElement('div');\n",
              "      const label = document.createElement('label');\n",
              "      label.textContent = `Downloading \"${filename}\": `;\n",
              "      div.appendChild(label);\n",
              "      const progress = document.createElement('progress');\n",
              "      progress.max = size;\n",
              "      div.appendChild(progress);\n",
              "      document.body.appendChild(div);\n",
              "\n",
              "      const buffers = [];\n",
              "      let downloaded = 0;\n",
              "\n",
              "      const channel = await google.colab.kernel.comms.open(id);\n",
              "      // Send a message to notify the kernel that we're ready.\n",
              "      channel.send({})\n",
              "\n",
              "      for await (const message of channel.messages) {\n",
              "        // Send a message to notify the kernel that we're ready.\n",
              "        channel.send({})\n",
              "        if (message.buffers) {\n",
              "          for (const buffer of message.buffers) {\n",
              "            buffers.push(buffer);\n",
              "            downloaded += buffer.byteLength;\n",
              "            progress.value = downloaded;\n",
              "          }\n",
              "        }\n",
              "      }\n",
              "      const blob = new Blob(buffers, {type: 'application/binary'});\n",
              "      const a = document.createElement('a');\n",
              "      a.href = window.URL.createObjectURL(blob);\n",
              "      a.download = filename;\n",
              "      div.appendChild(a);\n",
              "      a.click();\n",
              "      div.remove();\n",
              "    }\n",
              "  "
            ],
            "text/plain": [
              "<IPython.core.display.Javascript object>"
            ]
          },
          "metadata": {}
        },
        {
          "output_type": "display_data",
          "data": {
            "application/javascript": [
              "download(\"download_3cee225d-0fd1-4654-a6ce-239a7eee7b31\", \"forecast_export.csv\", 610)"
            ],
            "text/plain": [
              "<IPython.core.display.Javascript object>"
            ]
          },
          "metadata": {}
        }
      ]
    }
  ]
}